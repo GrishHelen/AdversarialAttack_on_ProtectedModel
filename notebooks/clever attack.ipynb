{
 "cells": [
  {
   "cell_type": "code",
   "execution_count": 1,
   "metadata": {},
   "outputs": [
    {
     "data": {
      "text/plain": [
       "<torch._C.Generator at 0x7fb72817fc30>"
      ]
     },
     "execution_count": 1,
     "metadata": {},
     "output_type": "execute_result"
    }
   ],
   "source": [
    "import torch\n",
    "from torch import nn\n",
    "from torchvision.datasets import MNIST, CIFAR10\n",
    "from torchvision.transforms import ToTensor\n",
    "from torch.utils.data import DataLoader\n",
    "from torchvision.models import resnet18\n",
    "import matplotlib.pyplot as plt\n",
    "import numpy as np\n",
    "from torch import nn\n",
    "from torch import optim\n",
    "from torchvision.models import resnet18\n",
    "import torch\n",
    "from tqdm import tqdm\n",
    "import math\n",
    "import matplotlib.pyplot as plt\n",
    "torch.manual_seed(0)"
   ]
  },
  {
   "cell_type": "markdown",
   "metadata": {},
   "source": [
    "## download CIFAR-10"
   ]
  },
  {
   "cell_type": "code",
   "execution_count": 2,
   "metadata": {},
   "outputs": [
    {
     "name": "stdout",
     "output_type": "stream",
     "text": [
      "Files already downloaded and verified\n",
      "Files already downloaded and verified\n"
     ]
    }
   ],
   "source": [
    "from torchvision.datasets import MNIST, CIFAR10\n",
    "from torchvision.transforms import ToTensor\n",
    "from torch.utils.data import DataLoader\n",
    "from torchvision.models import resnet18\n",
    "\n",
    "\n",
    "batch_size = 64\n",
    "train_data = CIFAR10(\n",
    "        root=\"data\",\n",
    "        train=True,\n",
    "        download=True,\n",
    "        transform=ToTensor(),\n",
    "    )\n",
    "test_data = CIFAR10(\n",
    "    root=\"data\",\n",
    "    train=False,\n",
    "    download=True,\n",
    "    transform=ToTensor(),\n",
    ")\n",
    "\n",
    "train_dataloader = DataLoader(train_data, batch_size=batch_size, shuffle=True, num_workers=2)\n",
    "test_dataloader = DataLoader(test_data, batch_size=batch_size, shuffle=False, num_workers=2)"
   ]
  },
  {
   "cell_type": "code",
   "execution_count": 3,
   "metadata": {},
   "outputs": [],
   "source": [
    "def validate(model, testloader, criterion, device):\n",
    "    model.eval()\n",
    "    print(\"Validation\")\n",
    "    valid_running_loss = 0.0\n",
    "    valid_running_correct = 0\n",
    "    counter = 0\n",
    "\n",
    "    with torch.no_grad():\n",
    "        for i, data in tqdm(enumerate(testloader), total=len(testloader)):\n",
    "            counter += 1\n",
    "\n",
    "            image, labels = data\n",
    "            image = image.to(device)\n",
    "            labels = labels.to(device)\n",
    "            # Forward pass.\n",
    "            outputs = model(image)\n",
    "            # Calculate the loss.\n",
    "            loss = criterion(outputs, labels)\n",
    "            valid_running_loss += loss.item()\n",
    "            # Calculate the accuracy.\n",
    "            _, preds = torch.max(outputs.data, 1)\n",
    "            valid_running_correct += (preds == labels).sum().item()\n",
    "\n",
    "    # Loss and accuracy for the complete epoch.\n",
    "    epoch_loss = valid_running_loss / counter\n",
    "    epoch_acc = 100.0 * (valid_running_correct / len(testloader.dataset))\n",
    "    return epoch_loss, epoch_acc"
   ]
  },
  {
   "cell_type": "code",
   "execution_count": 4,
   "metadata": {},
   "outputs": [],
   "source": [
    "from torchvision.models import ResNet18_Weights\n",
    "\n",
    "class ClassifierHead(nn.Module):\n",
    "    def __init__(self):\n",
    "        super().__init__()\n",
    "        self.classifier = nn.Linear(in_features=512, out_features=10, bias=True)\n",
    "    \n",
    "    def forward(self, x):\n",
    "        return self.classifier(x)\n",
    "\n",
    "\n",
    "device = torch.device('cuda:0' if torch.cuda.is_available() else 'cpu')\n",
    "criterion = nn.CrossEntropyLoss()"
   ]
  },
  {
   "cell_type": "code",
   "execution_count": 5,
   "metadata": {},
   "outputs": [
    {
     "name": "stderr",
     "output_type": "stream",
     "text": [
      "/tmp/ipykernel_448940/2698396606.py:5: FutureWarning: You are using `torch.load` with `weights_only=False` (the current default value), which uses the default pickle module implicitly. It is possible to construct malicious pickle data which will execute arbitrary code during unpickling (See https://github.com/pytorch/pytorch/blob/main/SECURITY.md#untrusted-models for more details). In a future release, the default value for `weights_only` will be flipped to `True`. This limits the functions that could be executed during unpickling. Arbitrary objects will no longer be allowed to be loaded via this mode unless they are explicitly allowlisted by the user via `torch.serialization.add_safe_globals`. We recommend you start setting `weights_only=True` for any use case where you don't have full control of the loaded file. Please open an issue on GitHub for any issues related to this experimental feature.\n",
      "  model.load_state_dict(torch.load(path))\n"
     ]
    }
   ],
   "source": [
    "path = 'data/weights_1.pt'\n",
    "\n",
    "model = resnet18().to(device)\n",
    "model.fc = ClassifierHead().to(device)\n",
    "model.load_state_dict(torch.load(path))\n",
    "model.eval();"
   ]
  },
  {
   "cell_type": "code",
   "execution_count": 6,
   "metadata": {},
   "outputs": [
    {
     "name": "stdout",
     "output_type": "stream",
     "text": [
      "Validation\n"
     ]
    },
    {
     "name": "stderr",
     "output_type": "stream",
     "text": [
      "100%|██████████| 157/157 [00:01<00:00, 124.85it/s]\n"
     ]
    },
    {
     "data": {
      "text/plain": [
       "(1.1781141660205878, 82.37)"
      ]
     },
     "execution_count": 6,
     "metadata": {},
     "output_type": "execute_result"
    }
   ],
   "source": [
    "validate(model, test_dataloader, criterion, device)"
   ]
  },
  {
   "cell_type": "code",
   "execution_count": 7,
   "metadata": {},
   "outputs": [],
   "source": [
    "def imshow(img):\n",
    "    img = img / 2 + 0.5\n",
    "    plt.imshow(np.transpose(img, (1,2,0)))\n",
    "\n",
    "classes = [\"airplane\", \"automobile\", \"bird\", \"cat\", \"deer\", \"dog\", \"frog\",\n",
    "          \"horse\", \"ship\", \"truck\"]"
   ]
  },
  {
   "cell_type": "code",
   "execution_count": 8,
   "metadata": {},
   "outputs": [],
   "source": [
    "from torchvision.transforms.v2 import GaussianNoise\n",
    "\n",
    "class GHatDetermined(nn.Module):\n",
    "    '''\n",
    "    GHat model with fixed values epsilon[i], i = 1...N\n",
    "    '''\n",
    "    def __init__(self, model, sigma=0.1, n_samples=100):\n",
    "        super().__init__()\n",
    "\n",
    "        self.n_samples = n_samples\n",
    "        self.noiser = GaussianNoise(mean=0, sigma=sigma)\n",
    "        self.model = model.to(device)\n",
    "        self.epsilons = [\n",
    "            self.noiser(torch.zeros(3, 32, 32)).to(device)\n",
    "            for _ in range(self.n_samples)\n",
    "        ]\n",
    "        self.softmax = nn.Softmax()\n",
    "\n",
    "    def forward(self, x):\n",
    "        probs = torch.zeros(1, 10).to(device)\n",
    "        probs.requires_grad = True\n",
    "        for i in range(self.n_samples):\n",
    "            new_x = x + self.epsilons[i]\n",
    "            probs = probs + self.softmax(self.model(new_x))\n",
    "        probs /= self.n_samples\n",
    "        return probs\n",
    "\n",
    "class GHat:\n",
    "    def __init__(self, model, sigma=0.1, n_samples=100):\n",
    "        self.noiser = GaussianNoise(mean=0.0, sigma=sigma)\n",
    "        self.n_samples = n_samples\n",
    "        self.model = model.to(device)\n",
    "        self.softmax = nn.Softmax()\n",
    "    \n",
    "    def forward(self, image):\n",
    "        image = image.to(device)\n",
    "        if len(image.shape) == 3:\n",
    "            image = image.unsqueeze(dim=0)\n",
    "        probs = torch.zeros(1, 10).to(device)\n",
    "        for iteration in range(self.n_samples):\n",
    "            probs += self.softmax(self.model(self.noiser(image)))\n",
    "        probs /= self.n_samples\n",
    "        return probs\n",
    "    \n",
    "    def __call__(self, image):\n",
    "        return self.forward(image)"
   ]
  },
  {
   "cell_type": "code",
   "execution_count": 9,
   "metadata": {},
   "outputs": [],
   "source": [
    "ghat = GHat(model, n_samples=100)"
   ]
  },
  {
   "cell_type": "code",
   "execution_count": 10,
   "metadata": {},
   "outputs": [],
   "source": [
    "from torchvision.transforms.v2 import GaussianNoise\n",
    "\n",
    "def random_attack(model, image, true_label, noiser=GaussianNoise(mean=0, sigma=0.05), n_tries=100):\n",
    "    true_label = model(image.unsqueeze(dim=0).to(device)).argmax().item()\n",
    "    for attempt in range(1, n_tries + 1):\n",
    "        new_image = noiser(image)\n",
    "        new_image = new_image.unsqueeze(dim=0).to(device)\n",
    "        label = model(new_image).argmax().item()\n",
    "        if label != true_label:\n",
    "            new_image = new_image.squeeze(0).detach()\n",
    "            return label, new_image, attempt"
   ]
  },
  {
   "cell_type": "code",
   "execution_count": 11,
   "metadata": {},
   "outputs": [],
   "source": [
    "def fgsm_attack(model, image, true_label, epsilon=0.01):\n",
    "    model.eval()\n",
    "    \n",
    "    if len(image.shape) == 3:\n",
    "        image = image.unsqueeze(dim=0)\n",
    "    image = image.to(device)\n",
    "    image.requires_grad = True\n",
    "    \n",
    "    output = model(image)\n",
    "    loss = criterion(model(image), torch.tensor([true_label]).to(device))\n",
    "    model.zero_grad()\n",
    "    loss.backward()\n",
    "    \n",
    "    image_grad = image.grad\n",
    "    \n",
    "    bad_image = image + epsilon * image_grad.sign()\n",
    "    bad_image = torch.clamp(bad_image, 0, 1)\n",
    "\n",
    "    label = model(bad_image).argmax().item()\n",
    "    has_attack_worked = (label != true_label)\n",
    "    \n",
    "    bad_image = bad_image.squeeze(0).detach()\n",
    "    \n",
    "    return has_attack_worked, bad_image, label"
   ]
  },
  {
   "cell_type": "code",
   "execution_count": 12,
   "metadata": {},
   "outputs": [],
   "source": [
    "def get_gradient_estimation(model, image, true_label, n_samples=10):\n",
    "    if len(image.shape) == 3:\n",
    "        image = image.unsqueeze(dim=0)\n",
    "    image.requires_grad = True\n",
    "    loss_fn = nn.NLLLoss()\n",
    "\n",
    "    for _ in range(n_samples):\n",
    "        gdet = GHatDetermined(model)\n",
    "        log_prob = torch.log(gdet(image))\n",
    "        loss = loss_fn(log_prob, torch.tensor([true_label]).to(device))\n",
    "        loss.backward()\n",
    "        model.zero_grad()\n",
    "    grad_estimation = image.grad / n_samples\n",
    "    return grad_estimation"
   ]
  },
  {
   "cell_type": "code",
   "execution_count": 13,
   "metadata": {},
   "outputs": [],
   "source": [
    "def find_gradient_estimation_attack(\n",
    "        model,\n",
    "        model_to_attack,\n",
    "        image,\n",
    "        true_label,\n",
    "        epsilon_mult=1,\n",
    "        epsilon=0.04,\n",
    "        n_samples=10,\n",
    "        eps_limits = (10**(-6), 100)\n",
    "    ):\n",
    "    model.eval()\n",
    "\n",
    "    image = image.to(device)\n",
    "    gradient_estimation = get_gradient_estimation(model, image, true_label, n_samples).to(device)\n",
    "    bad_image = image + epsilon * gradient_estimation.sign()\n",
    "    bad_image = torch.clamp(bad_image, 0, 1)\n",
    "    new_label = model_to_attack(bad_image).argmax().item()\n",
    "    true_label = true_label.item()\n",
    "\n",
    "    if epsilon_mult == 1:\n",
    "        bad_image = bad_image.squeeze(0).detach()\n",
    "        return new_label != true_label, bad_image, new_label, epsilon\n",
    "    elif epsilon_mult > 1:\n",
    "        while new_label == true_label and epsilon < eps_limits[1]:\n",
    "            epsilon *= epsilon_mult\n",
    "            bad_image = image + epsilon * gradient_estimation.sign()\n",
    "            bad_image = torch.clamp(bad_image, 0, 1)\n",
    "            new_label = model_to_attack(bad_image).argmax().item()\n",
    "        bad_image = bad_image.squeeze(0).detach()\n",
    "        return eps_limits[0] < epsilon < eps_limits[1],  bad_image, new_label, epsilon\n",
    "    else:\n",
    "        while new_label != true_label and eps_limits[0] < epsilon:\n",
    "            epsilon *= epsilon_mult\n",
    "            bad_image = image + epsilon * gradient_estimation.sign()\n",
    "            bad_image = torch.clamp(bad_image, 0, 1)\n",
    "            new_label = model_to_attack(bad_image).argmax().item()\n",
    "        bad_image = image - epsilon * gradient_estimation.sign()\n",
    "        bad_image = bad_image.squeeze(0).detach()\n",
    "        return eps_limits[0] < epsilon < eps_limits[1], bad_image, new_label, epsilon"
   ]
  },
  {
   "cell_type": "markdown",
   "metadata": {},
   "source": [
    "## Атакуем по-умному"
   ]
  },
  {
   "cell_type": "code",
   "execution_count": 14,
   "metadata": {},
   "outputs": [
    {
     "data": {
      "image/png": "[encoded data removed]",
      "text/plain": [
       "<Figure size 432x288 with 1 Axes>"
      ]
     },
     "metadata": {
      "needs_background": "light"
     },
     "output_type": "display_data"
    }
   ],
   "source": [
    "images_batch, labels_batch = next(iter(test_dataloader))\n",
    "image = images_batch[5]\n",
    "true_label = labels_batch[5].item()\n",
    "imshow(image)"
   ]
  },
  {
   "cell_type": "markdown",
   "metadata": {},
   "source": [
    "### Атакуем и строим зависимость"
   ]
  },
  {
   "cell_type": "code",
   "execution_count": 17,
   "metadata": {},
   "outputs": [
    {
     "name": "stdout",
     "output_type": "stream",
     "text": [
      "p_gap=0.27448, BAD eps=7.62939453125e-07\n",
      "p_gap=0.80935, BAD eps=7.62939453125e-07\n",
      "p_gap=0.63897, p_a=0.78289, p_b=0.14392. eps=0.003125. p_gap/eps=204.4696283340454. horse -> horse\n",
      "p_gap=0.47452, BAD eps=7.62939453125e-07\n",
      "p_gap=0.43589, BAD eps=7.62939453125e-07\n",
      "p_gap=0.81737, p_a=0.90869, p_b=0.09131. eps=0.003125. p_gap/eps=261.55993938446045. automobile -> automobile\n",
      "p_gap=0.88259, BAD eps=7.62939453125e-07\n",
      "p_gap=0.86568, p_a=0.93127, p_b=0.06559. eps=0.0015625. p_gap/eps=554.0328884124756. cat -> cat\n",
      "p_gap=0.88339, p_a=0.92946, p_b=0.04607. eps=0.00625. p_gap/eps=141.34210348129272. bird -> bird\n",
      "p_gap=0.59689, BAD eps=7.62939453125e-07\n",
      "p_gap=0.63494, p_a=0.81745, p_b=0.18251. eps=0.00078125. p_gap/eps=812.7257347106934. frog -> frog\n",
      "p_gap=0.5949, BAD eps=7.62939453125e-07\n",
      "p_gap=0.49559, BAD eps=7.62939453125e-07\n",
      "p_gap=0.69873, p_a=0.84936, p_b=0.15063. eps=0.00625. p_gap/eps=111.79670810699463. frog -> frog\n",
      "p_gap=0.11589, BAD eps=7.62939453125e-07\n",
      "p_gap=0.78156, p_a=0.89066, p_b=0.10911. eps=0.0125. p_gap/eps=62.52453625202179. deer -> deer\n",
      "p_gap=0.65458, p_a=0.7953, p_b=0.14072. eps=0.00625. p_gap/eps=104.73286151885986. airplane -> airplane\n",
      "p_gap=0.84135, BAD eps=7.62939453125e-07\n",
      "p_gap=0.33949, p_a=0.66974, p_b=0.33025. eps=0.003125. p_gap/eps=108.63707542419434. truck -> truck\n",
      "p_gap=0.61081, BAD eps=7.62939453125e-07\n",
      "p_gap=0.81506, p_a=0.88789, p_b=0.07282. eps=0.000390625. p_gap/eps=2086.5614891052246. airplane -> airplane\n",
      "p_gap=0.8526, BAD eps=7.62939453125e-07\n",
      "p_gap=0.70474, BAD eps=7.62939453125e-07\n",
      "p_gap=0.1758, BAD eps=7.62939453125e-07\n",
      "p_gap=0.21859, p_a=0.6093, p_b=0.3907. eps=0.00078125. p_gap/eps=279.79610443115234. automobile -> automobile\n",
      "p_gap=0.37127, BAD eps=7.62939453125e-07\n",
      "p_gap=0.76982, p_a=0.8755, p_b=0.10568. eps=0.00625. p_gap/eps=123.1714940071106. cat -> cat\n",
      "p_gap=0.85037, BAD eps=7.62939453125e-07\n",
      "p_gap=0.81791, p_a=0.90895, p_b=0.09104. eps=0.00625. p_gap/eps=130.86561799049377. horse -> horse\n",
      "p_gap=0.24121, p_a=0.61972, p_b=0.37851. eps=0.0125. p_gap/eps=19.296445846557617. deer -> deer\n",
      "p_gap=0.71679, p_a=0.85147, p_b=0.13468. eps=0.003125. p_gap/eps=229.3740940093994. deer -> deer\n",
      "p_gap=0.74953, p_a=0.87476, p_b=0.12523. eps=0.000390625. p_gap/eps=1918.7956237792969. cat -> cat\n",
      "p_gap=0.77651, BAD eps=7.62939453125e-07\n",
      "p_gap=0.534, BAD eps=7.62939453125e-07\n"
     ]
    }
   ],
   "source": [
    "# ищем картинку с наим p_a-p_b\n",
    "eps_dependence = [[], [], []]  # [[p_gap_1, p_gap_2, ...], [eps_1, eps_2, ...], [certified_radius_1, certified_radius_2, ...]]\n",
    "eps_limits = (10**(-6), 10)\n",
    "phi_inv = lambda x: torch.distributions.Normal(0, 1).icdf(torch.tensor(x))\n",
    "\n",
    "cnt_success = 0\n",
    "model_to_attack = GHat(model)\n",
    "for image_batch, label_batch in test_dataloader:\n",
    "    image_batch = image_batch.to(device)\n",
    "    label_batch = label_batch.to(device)\n",
    "\n",
    "    for image, label in zip(image_batch, label_batch):\n",
    "        eps = 0.05\n",
    "        imshow(image.cpu())\n",
    "        p_sorted = (nn.Softmax()(model(image.unsqueeze(dim=0)))[0]).sort(descending=True)\n",
    "        if p_sorted.indices[0].item() != label.item():\n",
    "            continue\n",
    "        p_a = p_sorted.values[0].item()  # a_class = p_sorted.indices[0].item()\n",
    "        p_b = p_sorted.values[1].item()\n",
    "        p_gap = p_a-p_b\n",
    "\n",
    "        if p_gap > 0.9:\n",
    "            continue\n",
    "        \n",
    "        is_successful, bad_image, label_predicted, _ = find_gradient_estimation_attack(model, model_to_attack, image, label, epsilon=eps)\n",
    "        \n",
    "        if is_successful: # class changed\n",
    "            eps_mult = 0.5\n",
    "        else: # same class\n",
    "            eps_mult = 2\n",
    "\n",
    "        is_successful, bad_image, label_predicted, eps = find_gradient_estimation_attack(model, model_to_attack, image, label, eps_mult, epsilon=eps)\n",
    "        \n",
    "        if is_successful:\n",
    "            print(f'p_gap={round(p_gap, 5)}, p_a={round(p_a, 5)}, p_b={round(p_b, 5)}. eps={eps}. p_gap/eps={p_gap / eps}. {classes[label.item()]} -> {classes[label_predicted]}')\n",
    "            eps_dependence[0].append(p_gap)\n",
    "            eps_dependence[1].append(eps)\n",
    "            eps_dependence[2].append(0.1 / 2 * (phi_inv(p_a) - phi_inv(p_b)).item())\n",
    "            cnt_success +=1 \n",
    "            if cnt_success > 10000:\n",
    "                break\n",
    "        else: \n",
    "            print(f'p_gap={round(p_gap, 5)}, BAD eps={eps}')\n",
    "    with open('clever_attack.txt', 'w') as f:\n",
    "        for vector in eps_dependence:\n",
    "            line = ', '.join(map(str, vector))\n",
    "            f.write(line + '\\n')"
   ]
  },
  {
   "cell_type": "code",
   "execution_count": 16,
   "metadata": {},
   "outputs": [
    {
     "data": {
      "image/png": "[encoded data removed]",
      "text/plain": [
       "<Figure size 432x288 with 1 Axes>"
      ]
     },
     "metadata": {
      "needs_background": "light"
     },
     "output_type": "display_data"
    }
   ],
   "source": [
    "plt.scatter(eps_dependence[0], eps_dependence[1], s=5)\n",
    "plt.yscale('log')"
   ]
  },
  {
   "cell_type": "code",
   "execution_count": null,
   "metadata": {},
   "outputs": [],
   "source": []
  },
  {
   "cell_type": "code",
   "execution_count": null,
   "metadata": {},
   "outputs": [],
   "source": []
  },
  {
   "cell_type": "code",
   "execution_count": null,
   "metadata": {},
   "outputs": [],
   "source": []
  },
  {
   "cell_type": "code",
   "execution_count": null,
   "metadata": {},
   "outputs": [],
   "source": []
  },
  {
   "cell_type": "code",
   "execution_count": null,
   "metadata": {},
   "outputs": [],
   "source": []
  },
  {
   "cell_type": "code",
   "execution_count": null,
   "metadata": {},
   "outputs": [],
   "source": []
  }
 ],
 "metadata": {
  "kernelspec": {
   "display_name": "Python 3 (ipykernel)",
   "language": "python",
   "name": "python3"
  },
  "language_info": {
   "codemirror_mode": {
    "name": "ipython",
    "version": 3
   },
   "file_extension": ".py",
   "mimetype": "text/x-python",
   "name": "python",
   "nbconvert_exporter": "python",
   "pygments_lexer": "ipython3",
   "version": "3.10.12"
  }
 },
 "nbformat": 4,
 "nbformat_minor": 2
}
