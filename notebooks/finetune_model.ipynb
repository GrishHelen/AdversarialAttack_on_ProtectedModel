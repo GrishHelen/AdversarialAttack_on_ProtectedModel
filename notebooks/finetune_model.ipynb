{
 "cells": [
  {
   "cell_type": "markdown",
   "metadata": {},
   "source": []
  },
  {
   "cell_type": "code",
   "execution_count": 1,
   "metadata": {},
   "outputs": [],
   "source": [
    "import torch\n",
    "from torch import nn\n",
    "from torchvision.datasets import MNIST, CIFAR10\n",
    "from torchvision.transforms import ToTensor\n",
    "from torch.utils.data import DataLoader\n",
    "from torchvision.models import resnet18\n",
    "import matplotlib.pyplot as plt\n",
    "import numpy as np\n",
    "from torch import nn\n",
    "from torch import optim\n",
    "from torchvision.models import resnet18\n",
    "import torch\n",
    "from tqdm import tqdm\n"
   ]
  },
  {
   "cell_type": "markdown",
   "metadata": {},
   "source": [
    "## download CIFAR-10"
   ]
  },
  {
   "cell_type": "code",
   "execution_count": 2,
   "metadata": {},
   "outputs": [
    {
     "name": "stdout",
     "output_type": "stream",
     "text": [
      "Files already downloaded and verified\n",
      "Files already downloaded and verified\n"
     ]
    }
   ],
   "source": [
    "from torchvision.datasets import MNIST, CIFAR10\n",
    "from torchvision.transforms import ToTensor\n",
    "from torch.utils.data import DataLoader\n",
    "from torchvision.models import resnet18\n",
    "\n",
    "\n",
    "batch_size = 64\n",
    "train_data = CIFAR10(\n",
    "        root=\"data\",\n",
    "        train=True,\n",
    "        download=True,\n",
    "        transform=ToTensor(),\n",
    "    )\n",
    "test_data = CIFAR10(\n",
    "    root=\"data\",\n",
    "    train=False,\n",
    "    download=True,\n",
    "    transform=ToTensor(),\n",
    ")\n",
    "\n",
    "train_dataloader = DataLoader(train_data, batch_size=batch_size, shuffle=True, num_workers=2)\n",
    "test_dataloader = DataLoader(test_data, batch_size=batch_size, shuffle=False, num_workers=2)"
   ]
  },
  {
   "cell_type": "markdown",
   "metadata": {},
   "source": [
    "## ResNet18"
   ]
  },
  {
   "cell_type": "code",
   "execution_count": 3,
   "metadata": {},
   "outputs": [],
   "source": [
    "epochs = 100\n",
    "learning_rate = 0.01"
   ]
  },
  {
   "cell_type": "code",
   "execution_count": 4,
   "metadata": {},
   "outputs": [],
   "source": [
    "from torchvision.models import ResNet18_Weights\n",
    "\n",
    "\n",
    "class ClassifierHead(nn.Module):\n",
    "    def __init__(self):\n",
    "        super().__init__()\n",
    "        self.classifier = nn.Linear(in_features=512, out_features=10, bias=True)\n",
    "    \n",
    "    def forward(self, x):\n",
    "        return self.classifier(x)\n",
    "\n",
    "\n",
    "device = torch.device('cuda:0' if torch.cuda.is_available() else 'cpu')\n",
    "model = resnet18(weights=ResNet18_Weights.DEFAULT).to(device)\n",
    "model.fc = ClassifierHead().to(device)\n",
    "\n",
    "optimizer = optim.SGD(model.parameters(), lr=learning_rate)\n",
    "criterion = nn.CrossEntropyLoss()"
   ]
  },
  {
   "cell_type": "code",
   "execution_count": 5,
   "metadata": {},
   "outputs": [],
   "source": [
    "# Training function.\n",
    "def train(model, trainloader, optimizer, criterion, device):\n",
    "    model.train()\n",
    "    print(\"Training\")\n",
    "    train_running_loss = 0.0\n",
    "    train_running_correct = 0\n",
    "    counter = 0\n",
    "    for i, data in tqdm(enumerate(trainloader), total=len(trainloader)):\n",
    "        counter += 1\n",
    "        image, labels = data\n",
    "        image = image.to(device)\n",
    "        labels = labels.to(device)\n",
    "        optimizer.zero_grad()\n",
    "        # Forward pass.\n",
    "        outputs = model(image)\n",
    "        # Calculate the loss.\n",
    "        loss = criterion(outputs, labels)\n",
    "        train_running_loss += loss.item()\n",
    "        # Calculate the accuracy.\n",
    "        _, preds = torch.max(outputs.data, 1)\n",
    "        train_running_correct += (preds == labels).sum().item()\n",
    "        # Backpropagation\n",
    "        loss.backward()\n",
    "        # Update the weights.\n",
    "        optimizer.step()\n",
    "\n",
    "    # Loss and accuracy for the complete epoch.\n",
    "    epoch_loss = train_running_loss / counter\n",
    "    # epoch_acc = 100. * (train_running_correct / len(trainloader.dataset))\n",
    "    epoch_acc = 100.0 * (train_running_correct / len(trainloader.dataset))\n",
    "    return epoch_loss, epoch_acc\n",
    "\n",
    "\n",
    "# Validation function.\n",
    "def validate(model, testloader, criterion, device):\n",
    "    model.eval()\n",
    "    print(\"Validation\")\n",
    "    valid_running_loss = 0.0\n",
    "    valid_running_correct = 0\n",
    "    counter = 0\n",
    "\n",
    "    with torch.no_grad():\n",
    "        for i, data in tqdm(enumerate(testloader), total=len(testloader)):\n",
    "            counter += 1\n",
    "\n",
    "            image, labels = data\n",
    "            image = image.to(device)\n",
    "            labels = labels.to(device)\n",
    "            # Forward pass.\n",
    "            outputs = model(image)\n",
    "            # Calculate the loss.\n",
    "            loss = criterion(outputs, labels)\n",
    "            valid_running_loss += loss.item()\n",
    "            # Calculate the accuracy.\n",
    "            _, preds = torch.max(outputs.data, 1)\n",
    "            valid_running_correct += (preds == labels).sum().item()\n",
    "\n",
    "    # Loss and accuracy for the complete epoch.\n",
    "    epoch_loss = valid_running_loss / counter\n",
    "    epoch_acc = 100.0 * (valid_running_correct / len(testloader.dataset))\n",
    "    return epoch_loss, epoch_acc"
   ]
  },
  {
   "cell_type": "code",
   "execution_count": 6,
   "metadata": {},
   "outputs": [],
   "source": [
    "def run_iterations(): # Lists to keep track of losses and accuracies.\n",
    "    train_loss, valid_loss = [], []\n",
    "    train_acc, valid_acc = [], []\n",
    "    # Start the training.\n",
    "    for epoch in range(epochs):\n",
    "        print(f\"[INFO]: Epoch {epoch+1} of {epochs}\")\n",
    "\n",
    "\n",
    "        train_epoch_loss, train_epoch_acc = train(\n",
    "            model, train_dataloader, optimizer, criterion, device\n",
    "        )\n",
    "        valid_epoch_loss, valid_epoch_acc = validate(\n",
    "            model, test_dataloader, criterion, device\n",
    "        )\n",
    "        train_loss.append(train_epoch_loss)\n",
    "        valid_loss.append(valid_epoch_loss)\n",
    "        train_acc.append(train_epoch_acc)\n",
    "        valid_acc.append(valid_epoch_acc)\n",
    "        print(\n",
    "            f\"Training loss: {train_epoch_loss:.3f}, training acc: {train_epoch_acc:.3f}\"\n",
    "        )\n",
    "        print(\n",
    "            f\"Validation loss: {valid_epoch_loss:.3f}, validation acc: {valid_epoch_acc:.3f}\"\n",
    "        )\n",
    "        print(\"-\" * 50)"
   ]
  },
  {
   "cell_type": "code",
   "execution_count": 7,
   "metadata": {},
   "outputs": [
    {
     "name": "stdout",
     "output_type": "stream",
     "text": [
      "[INFO]: Epoch 1 of 100\n",
      "Training\n"
     ]
    },
    {
     "name": "stderr",
     "output_type": "stream",
     "text": [
      "  0%|          | 0/782 [00:00<?, ?it/s]"
     ]
    },
    {
     "name": "stderr",
     "output_type": "stream",
     "text": [
      "100%|██████████| 782/782 [00:07<00:00, 101.40it/s]"
     ]
    },
    {
     "name": "stdout",
     "output_type": "stream",
     "text": [
      "Validation\n"
     ]
    },
    {
     "name": "stderr",
     "output_type": "stream",
     "text": [
      "\n",
      "100%|██████████| 157/157 [00:00<00:00, 194.86it/s]"
     ]
    },
    {
     "name": "stdout",
     "output_type": "stream",
     "text": [
      "Training loss: 1.035, training acc: 64.066\n",
      "Validation loss: 0.801, validation acc: 72.130\n",
      "--------------------------------------------------\n",
      "[INFO]: Epoch 2 of 100\n",
      "Training\n"
     ]
    },
    {
     "name": "stderr",
     "output_type": "stream",
     "text": [
      "\n",
      "100%|██████████| 782/782 [00:07<00:00, 108.63it/s]"
     ]
    },
    {
     "name": "stdout",
     "output_type": "stream",
     "text": [
      "Validation\n"
     ]
    },
    {
     "name": "stderr",
     "output_type": "stream",
     "text": [
      "\n",
      "100%|██████████| 157/157 [00:00<00:00, 198.68it/s]"
     ]
    },
    {
     "name": "stdout",
     "output_type": "stream",
     "text": [
      "Training loss: 0.649, training acc: 77.548\n",
      "Validation loss: 0.704, validation acc: 76.350\n",
      "--------------------------------------------------\n",
      "[INFO]: Epoch 3 of 100\n",
      "Training\n"
     ]
    },
    {
     "name": "stderr",
     "output_type": "stream",
     "text": [
      "\n",
      "100%|██████████| 782/782 [00:07<00:00, 108.70it/s]"
     ]
    },
    {
     "name": "stdout",
     "output_type": "stream",
     "text": [
      "Validation\n"
     ]
    },
    {
     "name": "stderr",
     "output_type": "stream",
     "text": [
      "\n",
      "100%|██████████| 157/157 [00:00<00:00, 191.59it/s]"
     ]
    },
    {
     "name": "stdout",
     "output_type": "stream",
     "text": [
      "Training loss: 0.489, training acc: 82.990\n",
      "Validation loss: 0.891, validation acc: 71.700\n",
      "--------------------------------------------------\n",
      "[INFO]: Epoch 4 of 100\n",
      "Training\n"
     ]
    },
    {
     "name": "stderr",
     "output_type": "stream",
     "text": [
      "\n",
      "100%|██████████| 782/782 [00:07<00:00, 108.62it/s]"
     ]
    },
    {
     "name": "stdout",
     "output_type": "stream",
     "text": [
      "Validation\n"
     ]
    },
    {
     "name": "stderr",
     "output_type": "stream",
     "text": [
      "\n",
      "100%|██████████| 157/157 [00:00<00:00, 195.70it/s]"
     ]
    },
    {
     "name": "stdout",
     "output_type": "stream",
     "text": [
      "Training loss: 0.385, training acc: 86.636\n",
      "Validation loss: 0.826, validation acc: 73.930\n",
      "--------------------------------------------------\n",
      "[INFO]: Epoch 5 of 100\n",
      "Training\n"
     ]
    },
    {
     "name": "stderr",
     "output_type": "stream",
     "text": [
      "\n",
      "100%|██████████| 782/782 [00:07<00:00, 109.33it/s]"
     ]
    },
    {
     "name": "stdout",
     "output_type": "stream",
     "text": [
      "Validation\n"
     ]
    },
    {
     "name": "stderr",
     "output_type": "stream",
     "text": [
      "\n",
      "100%|██████████| 157/157 [00:00<00:00, 186.02it/s]"
     ]
    },
    {
     "name": "stdout",
     "output_type": "stream",
     "text": [
      "Training loss: 0.298, training acc: 89.564\n",
      "Validation loss: 0.702, validation acc: 78.710\n",
      "--------------------------------------------------\n",
      "[INFO]: Epoch 6 of 100\n",
      "Training\n"
     ]
    },
    {
     "name": "stderr",
     "output_type": "stream",
     "text": [
      "\n",
      "100%|██████████| 782/782 [00:07<00:00, 109.00it/s]"
     ]
    },
    {
     "name": "stdout",
     "output_type": "stream",
     "text": [
      "Validation\n"
     ]
    },
    {
     "name": "stderr",
     "output_type": "stream",
     "text": [
      "\n",
      "100%|██████████| 157/157 [00:00<00:00, 196.42it/s]"
     ]
    },
    {
     "name": "stdout",
     "output_type": "stream",
     "text": [
      "Training loss: 0.240, training acc: 91.564\n",
      "Validation loss: 0.780, validation acc: 78.020\n",
      "--------------------------------------------------\n",
      "[INFO]: Epoch 7 of 100\n",
      "Training\n"
     ]
    },
    {
     "name": "stderr",
     "output_type": "stream",
     "text": [
      "\n",
      "100%|██████████| 782/782 [00:07<00:00, 108.99it/s]"
     ]
    },
    {
     "name": "stdout",
     "output_type": "stream",
     "text": [
      "Validation\n"
     ]
    },
    {
     "name": "stderr",
     "output_type": "stream",
     "text": [
      "\n",
      "100%|██████████| 157/157 [00:00<00:00, 197.33it/s]"
     ]
    },
    {
     "name": "stdout",
     "output_type": "stream",
     "text": [
      "Training loss: 0.187, training acc: 93.492\n",
      "Validation loss: 0.891, validation acc: 76.060\n",
      "--------------------------------------------------\n",
      "[INFO]: Epoch 8 of 100\n",
      "Training\n"
     ]
    },
    {
     "name": "stderr",
     "output_type": "stream",
     "text": [
      "\n",
      "100%|██████████| 782/782 [00:07<00:00, 109.96it/s]"
     ]
    },
    {
     "name": "stdout",
     "output_type": "stream",
     "text": [
      "Validation\n"
     ]
    },
    {
     "name": "stderr",
     "output_type": "stream",
     "text": [
      "\n",
      "100%|██████████| 157/157 [00:00<00:00, 192.51it/s]"
     ]
    },
    {
     "name": "stdout",
     "output_type": "stream",
     "text": [
      "Training loss: 0.150, training acc: 94.780\n",
      "Validation loss: 0.966, validation acc: 75.970\n",
      "--------------------------------------------------\n",
      "[INFO]: Epoch 9 of 100\n",
      "Training\n"
     ]
    },
    {
     "name": "stderr",
     "output_type": "stream",
     "text": [
      "\n",
      "100%|██████████| 782/782 [00:07<00:00, 110.13it/s]"
     ]
    },
    {
     "name": "stdout",
     "output_type": "stream",
     "text": [
      "Validation\n"
     ]
    },
    {
     "name": "stderr",
     "output_type": "stream",
     "text": [
      "\n",
      "100%|██████████| 157/157 [00:00<00:00, 193.27it/s]"
     ]
    },
    {
     "name": "stdout",
     "output_type": "stream",
     "text": [
      "Training loss: 0.126, training acc: 95.542\n",
      "Validation loss: 0.861, validation acc: 78.560\n",
      "--------------------------------------------------\n",
      "[INFO]: Epoch 10 of 100\n",
      "Training\n"
     ]
    },
    {
     "name": "stderr",
     "output_type": "stream",
     "text": [
      "\n",
      "100%|██████████| 782/782 [00:07<00:00, 109.06it/s]"
     ]
    },
    {
     "name": "stdout",
     "output_type": "stream",
     "text": [
      "Validation\n"
     ]
    },
    {
     "name": "stderr",
     "output_type": "stream",
     "text": [
      "\n",
      "100%|██████████| 157/157 [00:00<00:00, 184.33it/s]"
     ]
    },
    {
     "name": "stdout",
     "output_type": "stream",
     "text": [
      "Training loss: 0.103, training acc: 96.418\n",
      "Validation loss: 1.206, validation acc: 72.040\n",
      "--------------------------------------------------\n",
      "[INFO]: Epoch 11 of 100\n",
      "Training\n"
     ]
    },
    {
     "name": "stderr",
     "output_type": "stream",
     "text": [
      "\n",
      "100%|██████████| 782/782 [00:07<00:00, 108.41it/s]"
     ]
    },
    {
     "name": "stdout",
     "output_type": "stream",
     "text": [
      "Validation\n"
     ]
    },
    {
     "name": "stderr",
     "output_type": "stream",
     "text": [
      "\n",
      "100%|██████████| 157/157 [00:00<00:00, 194.97it/s]"
     ]
    },
    {
     "name": "stdout",
     "output_type": "stream",
     "text": [
      "Training loss: 0.095, training acc: 96.620\n",
      "Validation loss: 1.011, validation acc: 76.700\n",
      "--------------------------------------------------\n",
      "[INFO]: Epoch 12 of 100\n",
      "Training\n"
     ]
    },
    {
     "name": "stderr",
     "output_type": "stream",
     "text": [
      "\n",
      "100%|██████████| 782/782 [00:07<00:00, 109.51it/s]"
     ]
    },
    {
     "name": "stdout",
     "output_type": "stream",
     "text": [
      "Validation\n"
     ]
    },
    {
     "name": "stderr",
     "output_type": "stream",
     "text": [
      "\n",
      "100%|██████████| 157/157 [00:00<00:00, 188.82it/s]"
     ]
    },
    {
     "name": "stdout",
     "output_type": "stream",
     "text": [
      "Training loss: 0.076, training acc: 97.354\n",
      "Validation loss: 0.862, validation acc: 80.940\n",
      "--------------------------------------------------\n",
      "[INFO]: Epoch 13 of 100\n",
      "Training\n"
     ]
    },
    {
     "name": "stderr",
     "output_type": "stream",
     "text": [
      "\n",
      "100%|██████████| 782/782 [00:07<00:00, 110.39it/s]"
     ]
    },
    {
     "name": "stdout",
     "output_type": "stream",
     "text": [
      "Validation\n"
     ]
    },
    {
     "name": "stderr",
     "output_type": "stream",
     "text": [
      "\n",
      "100%|██████████| 157/157 [00:00<00:00, 194.13it/s]\n"
     ]
    },
    {
     "name": "stdout",
     "output_type": "stream",
     "text": [
      "Training loss: 0.062, training acc: 97.872\n",
      "Validation loss: 0.857, validation acc: 81.470\n",
      "--------------------------------------------------\n",
      "[INFO]: Epoch 14 of 100\n",
      "Training\n"
     ]
    },
    {
     "name": "stderr",
     "output_type": "stream",
     "text": [
      "100%|██████████| 782/782 [00:07<00:00, 110.47it/s]"
     ]
    },
    {
     "name": "stdout",
     "output_type": "stream",
     "text": [
      "Validation\n"
     ]
    },
    {
     "name": "stderr",
     "output_type": "stream",
     "text": [
      "\n",
      "100%|██████████| 157/157 [00:00<00:00, 194.12it/s]"
     ]
    },
    {
     "name": "stdout",
     "output_type": "stream",
     "text": [
      "Training loss: 0.064, training acc: 97.830\n",
      "Validation loss: 1.197, validation acc: 74.510\n",
      "--------------------------------------------------\n",
      "[INFO]: Epoch 15 of 100\n",
      "Training\n"
     ]
    },
    {
     "name": "stderr",
     "output_type": "stream",
     "text": [
      "\n",
      "100%|██████████| 782/782 [00:07<00:00, 110.93it/s]"
     ]
    },
    {
     "name": "stdout",
     "output_type": "stream",
     "text": [
      "Validation\n"
     ]
    },
    {
     "name": "stderr",
     "output_type": "stream",
     "text": [
      "\n",
      "100%|██████████| 157/157 [00:00<00:00, 196.31it/s]"
     ]
    },
    {
     "name": "stdout",
     "output_type": "stream",
     "text": [
      "Training loss: 0.059, training acc: 98.016\n",
      "Validation loss: 0.887, validation acc: 81.180\n",
      "--------------------------------------------------\n",
      "[INFO]: Epoch 16 of 100\n",
      "Training\n"
     ]
    },
    {
     "name": "stderr",
     "output_type": "stream",
     "text": [
      "\n",
      "100%|██████████| 782/782 [00:07<00:00, 107.14it/s]"
     ]
    },
    {
     "name": "stdout",
     "output_type": "stream",
     "text": [
      "Validation\n"
     ]
    },
    {
     "name": "stderr",
     "output_type": "stream",
     "text": [
      "\n",
      "100%|██████████| 157/157 [00:00<00:00, 199.97it/s]"
     ]
    },
    {
     "name": "stdout",
     "output_type": "stream",
     "text": [
      "Training loss: 0.046, training acc: 98.388\n",
      "Validation loss: 0.986, validation acc: 79.700\n",
      "--------------------------------------------------\n",
      "[INFO]: Epoch 17 of 100\n",
      "Training\n"
     ]
    },
    {
     "name": "stderr",
     "output_type": "stream",
     "text": [
      "\n",
      "100%|██████████| 782/782 [00:07<00:00, 108.02it/s]"
     ]
    },
    {
     "name": "stdout",
     "output_type": "stream",
     "text": [
      "Validation\n"
     ]
    },
    {
     "name": "stderr",
     "output_type": "stream",
     "text": [
      "\n",
      "100%|██████████| 157/157 [00:00<00:00, 197.86it/s]"
     ]
    },
    {
     "name": "stdout",
     "output_type": "stream",
     "text": [
      "Training loss: 0.044, training acc: 98.490\n",
      "Validation loss: 1.085, validation acc: 78.610\n",
      "--------------------------------------------------\n",
      "[INFO]: Epoch 18 of 100\n",
      "Training\n"
     ]
    },
    {
     "name": "stderr",
     "output_type": "stream",
     "text": [
      "\n",
      "100%|██████████| 782/782 [00:07<00:00, 107.19it/s]"
     ]
    },
    {
     "name": "stdout",
     "output_type": "stream",
     "text": [
      "Validation\n"
     ]
    },
    {
     "name": "stderr",
     "output_type": "stream",
     "text": [
      "\n",
      "100%|██████████| 157/157 [00:00<00:00, 193.10it/s]"
     ]
    },
    {
     "name": "stdout",
     "output_type": "stream",
     "text": [
      "Training loss: 0.037, training acc: 98.718\n",
      "Validation loss: 0.979, validation acc: 80.800\n",
      "--------------------------------------------------\n",
      "[INFO]: Epoch 19 of 100\n",
      "Training\n"
     ]
    },
    {
     "name": "stderr",
     "output_type": "stream",
     "text": [
      "\n",
      "100%|██████████| 782/782 [00:07<00:00, 110.04it/s]"
     ]
    },
    {
     "name": "stdout",
     "output_type": "stream",
     "text": [
      "Validation\n"
     ]
    },
    {
     "name": "stderr",
     "output_type": "stream",
     "text": [
      "\n",
      "100%|██████████| 157/157 [00:00<00:00, 193.89it/s]"
     ]
    },
    {
     "name": "stdout",
     "output_type": "stream",
     "text": [
      "Training loss: 0.035, training acc: 98.822\n",
      "Validation loss: 0.907, validation acc: 82.050\n",
      "--------------------------------------------------\n",
      "[INFO]: Epoch 20 of 100\n",
      "Training\n"
     ]
    },
    {
     "name": "stderr",
     "output_type": "stream",
     "text": [
      "\n",
      "100%|██████████| 782/782 [00:07<00:00, 110.76it/s]"
     ]
    },
    {
     "name": "stdout",
     "output_type": "stream",
     "text": [
      "Validation\n"
     ]
    },
    {
     "name": "stderr",
     "output_type": "stream",
     "text": [
      "\n",
      "100%|██████████| 157/157 [00:00<00:00, 196.32it/s]"
     ]
    },
    {
     "name": "stdout",
     "output_type": "stream",
     "text": [
      "Training loss: 0.031, training acc: 98.944\n",
      "Validation loss: 0.940, validation acc: 81.790\n",
      "--------------------------------------------------\n",
      "[INFO]: Epoch 21 of 100\n",
      "Training\n"
     ]
    },
    {
     "name": "stderr",
     "output_type": "stream",
     "text": [
      "\n",
      "100%|██████████| 782/782 [00:07<00:00, 110.17it/s]"
     ]
    },
    {
     "name": "stdout",
     "output_type": "stream",
     "text": [
      "Validation\n"
     ]
    },
    {
     "name": "stderr",
     "output_type": "stream",
     "text": [
      "\n",
      "100%|██████████| 157/157 [00:00<00:00, 196.78it/s]"
     ]
    },
    {
     "name": "stdout",
     "output_type": "stream",
     "text": [
      "Training loss: 0.034, training acc: 98.900\n",
      "Validation loss: 1.246, validation acc: 76.800\n",
      "--------------------------------------------------\n",
      "[INFO]: Epoch 22 of 100\n",
      "Training\n"
     ]
    },
    {
     "name": "stderr",
     "output_type": "stream",
     "text": [
      "\n",
      "100%|██████████| 782/782 [00:07<00:00, 110.72it/s]"
     ]
    },
    {
     "name": "stdout",
     "output_type": "stream",
     "text": [
      "Validation\n"
     ]
    },
    {
     "name": "stderr",
     "output_type": "stream",
     "text": [
      "\n",
      "100%|██████████| 157/157 [00:00<00:00, 199.45it/s]"
     ]
    },
    {
     "name": "stdout",
     "output_type": "stream",
     "text": [
      "Training loss: 0.032, training acc: 98.906\n",
      "Validation loss: 1.283, validation acc: 76.070\n",
      "--------------------------------------------------\n",
      "[INFO]: Epoch 23 of 100\n",
      "Training\n"
     ]
    },
    {
     "name": "stderr",
     "output_type": "stream",
     "text": [
      "\n",
      "100%|██████████| 782/782 [00:07<00:00, 109.32it/s]"
     ]
    },
    {
     "name": "stdout",
     "output_type": "stream",
     "text": [
      "Validation\n"
     ]
    },
    {
     "name": "stderr",
     "output_type": "stream",
     "text": [
      "\n",
      "100%|██████████| 157/157 [00:00<00:00, 197.21it/s]"
     ]
    },
    {
     "name": "stdout",
     "output_type": "stream",
     "text": [
      "Training loss: 0.031, training acc: 98.942\n",
      "Validation loss: 1.044, validation acc: 80.490\n",
      "--------------------------------------------------\n",
      "[INFO]: Epoch 24 of 100\n",
      "Training\n"
     ]
    },
    {
     "name": "stderr",
     "output_type": "stream",
     "text": [
      "\n",
      "100%|██████████| 782/782 [00:07<00:00, 110.09it/s]"
     ]
    },
    {
     "name": "stdout",
     "output_type": "stream",
     "text": [
      "Validation\n"
     ]
    },
    {
     "name": "stderr",
     "output_type": "stream",
     "text": [
      "\n",
      "100%|██████████| 157/157 [00:00<00:00, 201.76it/s]"
     ]
    },
    {
     "name": "stdout",
     "output_type": "stream",
     "text": [
      "Training loss: 0.030, training acc: 98.970\n",
      "Validation loss: 1.114, validation acc: 79.730\n",
      "--------------------------------------------------\n",
      "[INFO]: Epoch 25 of 100\n",
      "Training\n"
     ]
    },
    {
     "name": "stderr",
     "output_type": "stream",
     "text": [
      "\n",
      "100%|██████████| 782/782 [00:07<00:00, 109.27it/s]"
     ]
    },
    {
     "name": "stdout",
     "output_type": "stream",
     "text": [
      "Validation\n"
     ]
    },
    {
     "name": "stderr",
     "output_type": "stream",
     "text": [
      "\n",
      "100%|██████████| 157/157 [00:00<00:00, 192.75it/s]"
     ]
    },
    {
     "name": "stdout",
     "output_type": "stream",
     "text": [
      "Training loss: 0.025, training acc: 99.192\n",
      "Validation loss: 1.132, validation acc: 79.370\n",
      "--------------------------------------------------\n",
      "[INFO]: Epoch 26 of 100\n",
      "Training\n"
     ]
    },
    {
     "name": "stderr",
     "output_type": "stream",
     "text": [
      "\n",
      "100%|██████████| 782/782 [00:07<00:00, 108.27it/s]"
     ]
    },
    {
     "name": "stdout",
     "output_type": "stream",
     "text": [
      "Validation\n"
     ]
    },
    {
     "name": "stderr",
     "output_type": "stream",
     "text": [
      "\n",
      "100%|██████████| 157/157 [00:00<00:00, 197.00it/s]"
     ]
    },
    {
     "name": "stdout",
     "output_type": "stream",
     "text": [
      "Training loss: 0.023, training acc: 99.270\n",
      "Validation loss: 1.084, validation acc: 79.620\n",
      "--------------------------------------------------\n",
      "[INFO]: Epoch 27 of 100\n",
      "Training\n"
     ]
    },
    {
     "name": "stderr",
     "output_type": "stream",
     "text": [
      "\n",
      "100%|██████████| 782/782 [00:07<00:00, 108.93it/s]"
     ]
    },
    {
     "name": "stdout",
     "output_type": "stream",
     "text": [
      "Validation\n"
     ]
    },
    {
     "name": "stderr",
     "output_type": "stream",
     "text": [
      "\n",
      "100%|██████████| 157/157 [00:00<00:00, 191.88it/s]"
     ]
    },
    {
     "name": "stdout",
     "output_type": "stream",
     "text": [
      "Training loss: 0.021, training acc: 99.288\n",
      "Validation loss: 1.026, validation acc: 81.330\n",
      "--------------------------------------------------\n",
      "[INFO]: Epoch 28 of 100\n",
      "Training\n"
     ]
    },
    {
     "name": "stderr",
     "output_type": "stream",
     "text": [
      "\n",
      "100%|██████████| 782/782 [00:07<00:00, 110.64it/s]"
     ]
    },
    {
     "name": "stdout",
     "output_type": "stream",
     "text": [
      "Validation\n"
     ]
    },
    {
     "name": "stderr",
     "output_type": "stream",
     "text": [
      "\n",
      "100%|██████████| 157/157 [00:00<00:00, 192.94it/s]\n"
     ]
    },
    {
     "name": "stdout",
     "output_type": "stream",
     "text": [
      "Training loss: 0.020, training acc: 99.344\n",
      "Validation loss: 1.108, validation acc: 79.990\n",
      "--------------------------------------------------\n",
      "[INFO]: Epoch 29 of 100\n",
      "Training\n"
     ]
    },
    {
     "name": "stderr",
     "output_type": "stream",
     "text": [
      "100%|██████████| 782/782 [00:07<00:00, 109.62it/s]"
     ]
    },
    {
     "name": "stdout",
     "output_type": "stream",
     "text": [
      "Validation\n"
     ]
    },
    {
     "name": "stderr",
     "output_type": "stream",
     "text": [
      "\n",
      "100%|██████████| 157/157 [00:00<00:00, 198.55it/s]"
     ]
    },
    {
     "name": "stdout",
     "output_type": "stream",
     "text": [
      "Training loss: 0.021, training acc: 99.306\n",
      "Validation loss: 1.061, validation acc: 81.270\n",
      "--------------------------------------------------\n",
      "[INFO]: Epoch 30 of 100\n",
      "Training\n"
     ]
    },
    {
     "name": "stderr",
     "output_type": "stream",
     "text": [
      "\n",
      "100%|██████████| 782/782 [00:07<00:00, 110.87it/s]"
     ]
    },
    {
     "name": "stdout",
     "output_type": "stream",
     "text": [
      "Validation\n"
     ]
    },
    {
     "name": "stderr",
     "output_type": "stream",
     "text": [
      "\n",
      "100%|██████████| 157/157 [00:00<00:00, 192.64it/s]"
     ]
    },
    {
     "name": "stdout",
     "output_type": "stream",
     "text": [
      "Training loss: 0.019, training acc: 99.386\n",
      "Validation loss: 1.398, validation acc: 76.410\n",
      "--------------------------------------------------\n",
      "[INFO]: Epoch 31 of 100\n",
      "Training\n"
     ]
    },
    {
     "name": "stderr",
     "output_type": "stream",
     "text": [
      "\n",
      "100%|██████████| 782/782 [00:07<00:00, 109.97it/s]"
     ]
    },
    {
     "name": "stdout",
     "output_type": "stream",
     "text": [
      "Validation\n"
     ]
    },
    {
     "name": "stderr",
     "output_type": "stream",
     "text": [
      "\n",
      "100%|██████████| 157/157 [00:00<00:00, 197.61it/s]"
     ]
    },
    {
     "name": "stdout",
     "output_type": "stream",
     "text": [
      "Training loss: 0.021, training acc: 99.364\n",
      "Validation loss: 1.373, validation acc: 75.710\n",
      "--------------------------------------------------\n",
      "[INFO]: Epoch 32 of 100\n",
      "Training\n"
     ]
    },
    {
     "name": "stderr",
     "output_type": "stream",
     "text": [
      "\n",
      "100%|██████████| 782/782 [00:07<00:00, 109.62it/s]"
     ]
    },
    {
     "name": "stdout",
     "output_type": "stream",
     "text": [
      "Validation\n"
     ]
    },
    {
     "name": "stderr",
     "output_type": "stream",
     "text": [
      "\n",
      "100%|██████████| 157/157 [00:00<00:00, 198.61it/s]"
     ]
    },
    {
     "name": "stdout",
     "output_type": "stream",
     "text": [
      "Training loss: 0.017, training acc: 99.446\n",
      "Validation loss: 1.111, validation acc: 80.500\n",
      "--------------------------------------------------\n",
      "[INFO]: Epoch 33 of 100\n",
      "Training\n"
     ]
    },
    {
     "name": "stderr",
     "output_type": "stream",
     "text": [
      "\n",
      "100%|██████████| 782/782 [00:07<00:00, 109.68it/s]"
     ]
    },
    {
     "name": "stdout",
     "output_type": "stream",
     "text": [
      "Validation\n"
     ]
    },
    {
     "name": "stderr",
     "output_type": "stream",
     "text": [
      "\n",
      "100%|██████████| 157/157 [00:00<00:00, 195.56it/s]"
     ]
    },
    {
     "name": "stdout",
     "output_type": "stream",
     "text": [
      "Training loss: 0.016, training acc: 99.488\n",
      "Validation loss: 1.415, validation acc: 76.600\n",
      "--------------------------------------------------\n",
      "[INFO]: Epoch 34 of 100\n",
      "Training\n"
     ]
    },
    {
     "name": "stderr",
     "output_type": "stream",
     "text": [
      "\n",
      "100%|██████████| 782/782 [00:07<00:00, 108.33it/s]"
     ]
    },
    {
     "name": "stdout",
     "output_type": "stream",
     "text": [
      "Validation\n"
     ]
    },
    {
     "name": "stderr",
     "output_type": "stream",
     "text": [
      "\n",
      "100%|██████████| 157/157 [00:00<00:00, 194.35it/s]"
     ]
    },
    {
     "name": "stdout",
     "output_type": "stream",
     "text": [
      "Training loss: 0.017, training acc: 99.448\n",
      "Validation loss: 1.608, validation acc: 72.190\n",
      "--------------------------------------------------\n",
      "[INFO]: Epoch 35 of 100\n",
      "Training\n"
     ]
    },
    {
     "name": "stderr",
     "output_type": "stream",
     "text": [
      "\n",
      "100%|██████████| 782/782 [00:07<00:00, 109.36it/s]"
     ]
    },
    {
     "name": "stdout",
     "output_type": "stream",
     "text": [
      "Validation\n"
     ]
    },
    {
     "name": "stderr",
     "output_type": "stream",
     "text": [
      "\n",
      "100%|██████████| 157/157 [00:00<00:00, 195.47it/s]"
     ]
    },
    {
     "name": "stdout",
     "output_type": "stream",
     "text": [
      "Training loss: 0.018, training acc: 99.408\n",
      "Validation loss: 1.205, validation acc: 79.710\n",
      "--------------------------------------------------\n",
      "[INFO]: Epoch 36 of 100\n",
      "Training\n"
     ]
    },
    {
     "name": "stderr",
     "output_type": "stream",
     "text": [
      "\n",
      "100%|██████████| 782/782 [00:07<00:00, 108.98it/s]"
     ]
    },
    {
     "name": "stdout",
     "output_type": "stream",
     "text": [
      "Validation\n"
     ]
    },
    {
     "name": "stderr",
     "output_type": "stream",
     "text": [
      "\n",
      "100%|██████████| 157/157 [00:00<00:00, 196.87it/s]"
     ]
    },
    {
     "name": "stdout",
     "output_type": "stream",
     "text": [
      "Training loss: 0.016, training acc: 99.516\n",
      "Validation loss: 1.447, validation acc: 76.260\n",
      "--------------------------------------------------\n",
      "[INFO]: Epoch 37 of 100\n",
      "Training\n"
     ]
    },
    {
     "name": "stderr",
     "output_type": "stream",
     "text": [
      "\n",
      "100%|██████████| 782/782 [00:07<00:00, 110.38it/s]"
     ]
    },
    {
     "name": "stdout",
     "output_type": "stream",
     "text": [
      "Validation\n"
     ]
    },
    {
     "name": "stderr",
     "output_type": "stream",
     "text": [
      "\n",
      "100%|██████████| 157/157 [00:00<00:00, 194.76it/s]"
     ]
    },
    {
     "name": "stdout",
     "output_type": "stream",
     "text": [
      "Training loss: 0.016, training acc: 99.430\n",
      "Validation loss: 1.073, validation acc: 81.680\n",
      "--------------------------------------------------\n",
      "[INFO]: Epoch 38 of 100\n",
      "Training\n"
     ]
    },
    {
     "name": "stderr",
     "output_type": "stream",
     "text": [
      "\n",
      "100%|██████████| 782/782 [00:07<00:00, 109.31it/s]"
     ]
    },
    {
     "name": "stdout",
     "output_type": "stream",
     "text": [
      "Validation\n"
     ]
    },
    {
     "name": "stderr",
     "output_type": "stream",
     "text": [
      "\n",
      "100%|██████████| 157/157 [00:00<00:00, 192.68it/s]"
     ]
    },
    {
     "name": "stdout",
     "output_type": "stream",
     "text": [
      "Training loss: 0.014, training acc: 99.544\n",
      "Validation loss: 1.025, validation acc: 82.330\n",
      "--------------------------------------------------\n",
      "[INFO]: Epoch 39 of 100\n",
      "Training\n"
     ]
    },
    {
     "name": "stderr",
     "output_type": "stream",
     "text": [
      "\n",
      "100%|██████████| 782/782 [00:07<00:00, 110.44it/s]"
     ]
    },
    {
     "name": "stdout",
     "output_type": "stream",
     "text": [
      "Validation\n"
     ]
    },
    {
     "name": "stderr",
     "output_type": "stream",
     "text": [
      "\n",
      "100%|██████████| 157/157 [00:00<00:00, 186.31it/s]"
     ]
    },
    {
     "name": "stdout",
     "output_type": "stream",
     "text": [
      "Training loss: 0.015, training acc: 99.518\n",
      "Validation loss: 1.296, validation acc: 78.520\n",
      "--------------------------------------------------\n",
      "[INFO]: Epoch 40 of 100\n",
      "Training\n"
     ]
    },
    {
     "name": "stderr",
     "output_type": "stream",
     "text": [
      "\n",
      "100%|██████████| 782/782 [00:07<00:00, 109.33it/s]"
     ]
    },
    {
     "name": "stdout",
     "output_type": "stream",
     "text": [
      "Validation\n"
     ]
    },
    {
     "name": "stderr",
     "output_type": "stream",
     "text": [
      "\n",
      "100%|██████████| 157/157 [00:00<00:00, 177.54it/s]"
     ]
    },
    {
     "name": "stdout",
     "output_type": "stream",
     "text": [
      "Training loss: 0.016, training acc: 99.478\n",
      "Validation loss: 1.320, validation acc: 79.480\n",
      "--------------------------------------------------\n",
      "[INFO]: Epoch 41 of 100\n",
      "Training\n"
     ]
    },
    {
     "name": "stderr",
     "output_type": "stream",
     "text": [
      "\n",
      "100%|██████████| 782/782 [00:07<00:00, 109.74it/s]"
     ]
    },
    {
     "name": "stdout",
     "output_type": "stream",
     "text": [
      "Validation\n"
     ]
    },
    {
     "name": "stderr",
     "output_type": "stream",
     "text": [
      "\n",
      "100%|██████████| 157/157 [00:00<00:00, 197.87it/s]"
     ]
    },
    {
     "name": "stdout",
     "output_type": "stream",
     "text": [
      "Training loss: 0.017, training acc: 99.472\n",
      "Validation loss: 1.047, validation acc: 82.290\n",
      "--------------------------------------------------\n",
      "[INFO]: Epoch 42 of 100\n",
      "Training\n"
     ]
    },
    {
     "name": "stderr",
     "output_type": "stream",
     "text": [
      "\n",
      "100%|██████████| 782/782 [00:07<00:00, 110.28it/s]"
     ]
    },
    {
     "name": "stdout",
     "output_type": "stream",
     "text": [
      "Validation\n"
     ]
    },
    {
     "name": "stderr",
     "output_type": "stream",
     "text": [
      "\n",
      "100%|██████████| 157/157 [00:00<00:00, 192.44it/s]"
     ]
    },
    {
     "name": "stdout",
     "output_type": "stream",
     "text": [
      "Training loss: 0.012, training acc: 99.642\n",
      "Validation loss: 1.376, validation acc: 77.760\n",
      "--------------------------------------------------\n",
      "[INFO]: Epoch 43 of 100\n",
      "Training\n"
     ]
    },
    {
     "name": "stderr",
     "output_type": "stream",
     "text": [
      "\n",
      "100%|██████████| 782/782 [00:07<00:00, 109.81it/s]"
     ]
    },
    {
     "name": "stdout",
     "output_type": "stream",
     "text": [
      "Validation\n"
     ]
    },
    {
     "name": "stderr",
     "output_type": "stream",
     "text": [
      "\n",
      "100%|██████████| 157/157 [00:00<00:00, 198.80it/s]"
     ]
    },
    {
     "name": "stdout",
     "output_type": "stream",
     "text": [
      "Training loss: 0.013, training acc: 99.600\n",
      "Validation loss: 1.135, validation acc: 81.270\n",
      "--------------------------------------------------\n",
      "[INFO]: Epoch 44 of 100\n",
      "Training\n"
     ]
    },
    {
     "name": "stderr",
     "output_type": "stream",
     "text": [
      "\n",
      "100%|██████████| 782/782 [00:07<00:00, 109.18it/s]"
     ]
    },
    {
     "name": "stdout",
     "output_type": "stream",
     "text": [
      "Validation\n"
     ]
    },
    {
     "name": "stderr",
     "output_type": "stream",
     "text": [
      "\n",
      "100%|██████████| 157/157 [00:00<00:00, 196.28it/s]"
     ]
    },
    {
     "name": "stdout",
     "output_type": "stream",
     "text": [
      "Training loss: 0.011, training acc: 99.656\n",
      "Validation loss: 1.313, validation acc: 79.550\n",
      "--------------------------------------------------\n",
      "[INFO]: Epoch 45 of 100\n",
      "Training\n"
     ]
    },
    {
     "name": "stderr",
     "output_type": "stream",
     "text": [
      "\n",
      "100%|██████████| 782/782 [00:07<00:00, 110.41it/s]"
     ]
    },
    {
     "name": "stdout",
     "output_type": "stream",
     "text": [
      "Validation\n"
     ]
    },
    {
     "name": "stderr",
     "output_type": "stream",
     "text": [
      "\n",
      "100%|██████████| 157/157 [00:00<00:00, 196.47it/s]"
     ]
    },
    {
     "name": "stdout",
     "output_type": "stream",
     "text": [
      "Training loss: 0.015, training acc: 99.534\n",
      "Validation loss: 1.449, validation acc: 76.760\n",
      "--------------------------------------------------\n",
      "[INFO]: Epoch 46 of 100\n",
      "Training\n"
     ]
    },
    {
     "name": "stderr",
     "output_type": "stream",
     "text": [
      "\n",
      "100%|██████████| 782/782 [00:07<00:00, 110.76it/s]"
     ]
    },
    {
     "name": "stdout",
     "output_type": "stream",
     "text": [
      "Validation\n"
     ]
    },
    {
     "name": "stderr",
     "output_type": "stream",
     "text": [
      "\n",
      "100%|██████████| 157/157 [00:00<00:00, 196.42it/s]"
     ]
    },
    {
     "name": "stdout",
     "output_type": "stream",
     "text": [
      "Training loss: 0.018, training acc: 99.412\n",
      "Validation loss: 1.187, validation acc: 80.500\n",
      "--------------------------------------------------\n",
      "[INFO]: Epoch 47 of 100\n",
      "Training\n"
     ]
    },
    {
     "name": "stderr",
     "output_type": "stream",
     "text": [
      "\n",
      "100%|██████████| 782/782 [00:07<00:00, 110.27it/s]"
     ]
    },
    {
     "name": "stdout",
     "output_type": "stream",
     "text": [
      "Validation\n"
     ]
    },
    {
     "name": "stderr",
     "output_type": "stream",
     "text": [
      "\n",
      "100%|██████████| 157/157 [00:00<00:00, 193.70it/s]"
     ]
    },
    {
     "name": "stdout",
     "output_type": "stream",
     "text": [
      "Training loss: 0.014, training acc: 99.538\n",
      "Validation loss: 1.160, validation acc: 80.710\n",
      "--------------------------------------------------\n",
      "[INFO]: Epoch 48 of 100\n",
      "Training\n"
     ]
    },
    {
     "name": "stderr",
     "output_type": "stream",
     "text": [
      "\n",
      "100%|██████████| 782/782 [00:07<00:00, 103.74it/s]"
     ]
    },
    {
     "name": "stdout",
     "output_type": "stream",
     "text": [
      "Validation\n"
     ]
    },
    {
     "name": "stderr",
     "output_type": "stream",
     "text": [
      "\n",
      "100%|██████████| 157/157 [00:00<00:00, 198.63it/s]"
     ]
    },
    {
     "name": "stdout",
     "output_type": "stream",
     "text": [
      "Training loss: 0.013, training acc: 99.542\n",
      "Validation loss: 1.484, validation acc: 75.550\n",
      "--------------------------------------------------\n",
      "[INFO]: Epoch 49 of 100\n",
      "Training\n"
     ]
    },
    {
     "name": "stderr",
     "output_type": "stream",
     "text": [
      "\n",
      "100%|██████████| 782/782 [00:07<00:00, 110.50it/s]"
     ]
    },
    {
     "name": "stdout",
     "output_type": "stream",
     "text": [
      "Validation\n"
     ]
    },
    {
     "name": "stderr",
     "output_type": "stream",
     "text": [
      "\n",
      "100%|██████████| 157/157 [00:00<00:00, 196.22it/s]"
     ]
    },
    {
     "name": "stdout",
     "output_type": "stream",
     "text": [
      "Training loss: 0.011, training acc: 99.642\n",
      "Validation loss: 1.090, validation acc: 82.120\n",
      "--------------------------------------------------\n",
      "[INFO]: Epoch 50 of 100\n",
      "Training\n"
     ]
    },
    {
     "name": "stderr",
     "output_type": "stream",
     "text": [
      "\n",
      "100%|██████████| 782/782 [00:07<00:00, 107.61it/s]"
     ]
    },
    {
     "name": "stdout",
     "output_type": "stream",
     "text": [
      "Validation\n"
     ]
    },
    {
     "name": "stderr",
     "output_type": "stream",
     "text": [
      "\n",
      "100%|██████████| 157/157 [00:00<00:00, 195.80it/s]"
     ]
    },
    {
     "name": "stdout",
     "output_type": "stream",
     "text": [
      "Training loss: 0.011, training acc: 99.660\n",
      "Validation loss: 1.204, validation acc: 79.910\n",
      "--------------------------------------------------\n",
      "[INFO]: Epoch 51 of 100\n",
      "Training\n"
     ]
    },
    {
     "name": "stderr",
     "output_type": "stream",
     "text": [
      "\n",
      "100%|██████████| 782/782 [00:07<00:00, 110.18it/s]"
     ]
    },
    {
     "name": "stdout",
     "output_type": "stream",
     "text": [
      "Validation\n"
     ]
    },
    {
     "name": "stderr",
     "output_type": "stream",
     "text": [
      "\n",
      "100%|██████████| 157/157 [00:00<00:00, 195.60it/s]"
     ]
    },
    {
     "name": "stdout",
     "output_type": "stream",
     "text": [
      "Training loss: 0.013, training acc: 99.608\n",
      "Validation loss: 1.299, validation acc: 78.270\n",
      "--------------------------------------------------\n",
      "[INFO]: Epoch 52 of 100\n",
      "Training\n"
     ]
    },
    {
     "name": "stderr",
     "output_type": "stream",
     "text": [
      "\n",
      "100%|██████████| 782/782 [00:07<00:00, 107.66it/s]"
     ]
    },
    {
     "name": "stdout",
     "output_type": "stream",
     "text": [
      "Validation\n"
     ]
    },
    {
     "name": "stderr",
     "output_type": "stream",
     "text": [
      "\n",
      "100%|██████████| 157/157 [00:00<00:00, 195.83it/s]"
     ]
    },
    {
     "name": "stdout",
     "output_type": "stream",
     "text": [
      "Training loss: 0.012, training acc: 99.660\n",
      "Validation loss: 1.120, validation acc: 82.120\n",
      "--------------------------------------------------\n",
      "[INFO]: Epoch 53 of 100\n",
      "Training\n"
     ]
    },
    {
     "name": "stderr",
     "output_type": "stream",
     "text": [
      "\n",
      "100%|██████████| 782/782 [00:07<00:00, 108.11it/s]"
     ]
    },
    {
     "name": "stdout",
     "output_type": "stream",
     "text": [
      "Validation\n"
     ]
    },
    {
     "name": "stderr",
     "output_type": "stream",
     "text": [
      "\n",
      "100%|██████████| 157/157 [00:00<00:00, 193.97it/s]"
     ]
    },
    {
     "name": "stdout",
     "output_type": "stream",
     "text": [
      "Training loss: 0.008, training acc: 99.740\n",
      "Validation loss: 1.282, validation acc: 78.510\n",
      "--------------------------------------------------\n",
      "[INFO]: Epoch 54 of 100\n",
      "Training\n"
     ]
    },
    {
     "name": "stderr",
     "output_type": "stream",
     "text": [
      "\n",
      "100%|██████████| 782/782 [00:07<00:00, 110.67it/s]"
     ]
    },
    {
     "name": "stdout",
     "output_type": "stream",
     "text": [
      "Validation\n"
     ]
    },
    {
     "name": "stderr",
     "output_type": "stream",
     "text": [
      "\n",
      "100%|██████████| 157/157 [00:00<00:00, 196.51it/s]"
     ]
    },
    {
     "name": "stdout",
     "output_type": "stream",
     "text": [
      "Training loss: 0.009, training acc: 99.738\n",
      "Validation loss: 1.126, validation acc: 81.730\n",
      "--------------------------------------------------\n",
      "[INFO]: Epoch 55 of 100\n",
      "Training\n"
     ]
    },
    {
     "name": "stderr",
     "output_type": "stream",
     "text": [
      "\n",
      "100%|██████████| 782/782 [00:07<00:00, 109.73it/s]"
     ]
    },
    {
     "name": "stdout",
     "output_type": "stream",
     "text": [
      "Validation\n"
     ]
    },
    {
     "name": "stderr",
     "output_type": "stream",
     "text": [
      "\n",
      "100%|██████████| 157/157 [00:00<00:00, 196.57it/s]"
     ]
    },
    {
     "name": "stdout",
     "output_type": "stream",
     "text": [
      "Training loss: 0.009, training acc: 99.746\n",
      "Validation loss: 1.531, validation acc: 75.100\n",
      "--------------------------------------------------\n",
      "[INFO]: Epoch 56 of 100\n",
      "Training\n"
     ]
    },
    {
     "name": "stderr",
     "output_type": "stream",
     "text": [
      "\n",
      "100%|██████████| 782/782 [00:07<00:00, 109.09it/s]"
     ]
    },
    {
     "name": "stdout",
     "output_type": "stream",
     "text": [
      "Validation\n"
     ]
    },
    {
     "name": "stderr",
     "output_type": "stream",
     "text": [
      "\n",
      "100%|██████████| 157/157 [00:00<00:00, 191.92it/s]"
     ]
    },
    {
     "name": "stdout",
     "output_type": "stream",
     "text": [
      "Training loss: 0.012, training acc: 99.622\n",
      "Validation loss: 1.512, validation acc: 76.770\n",
      "--------------------------------------------------\n",
      "[INFO]: Epoch 57 of 100\n",
      "Training\n"
     ]
    },
    {
     "name": "stderr",
     "output_type": "stream",
     "text": [
      "\n",
      "100%|██████████| 782/782 [00:07<00:00, 108.67it/s]"
     ]
    },
    {
     "name": "stdout",
     "output_type": "stream",
     "text": [
      "Validation\n"
     ]
    },
    {
     "name": "stderr",
     "output_type": "stream",
     "text": [
      "\n",
      "100%|██████████| 157/157 [00:00<00:00, 197.89it/s]"
     ]
    },
    {
     "name": "stdout",
     "output_type": "stream",
     "text": [
      "Training loss: 0.013, training acc: 99.598\n",
      "Validation loss: 1.144, validation acc: 81.500\n",
      "--------------------------------------------------\n",
      "[INFO]: Epoch 58 of 100\n",
      "Training\n"
     ]
    },
    {
     "name": "stderr",
     "output_type": "stream",
     "text": [
      "\n",
      "100%|██████████| 782/782 [00:07<00:00, 109.87it/s]"
     ]
    },
    {
     "name": "stdout",
     "output_type": "stream",
     "text": [
      "Validation\n"
     ]
    },
    {
     "name": "stderr",
     "output_type": "stream",
     "text": [
      "\n",
      "100%|██████████| 157/157 [00:00<00:00, 190.61it/s]"
     ]
    },
    {
     "name": "stdout",
     "output_type": "stream",
     "text": [
      "Training loss: 0.010, training acc: 99.662\n",
      "Validation loss: 1.427, validation acc: 77.660\n",
      "--------------------------------------------------\n",
      "[INFO]: Epoch 59 of 100\n",
      "Training\n"
     ]
    },
    {
     "name": "stderr",
     "output_type": "stream",
     "text": [
      "\n",
      "100%|██████████| 782/782 [00:07<00:00, 109.95it/s]"
     ]
    },
    {
     "name": "stdout",
     "output_type": "stream",
     "text": [
      "Validation\n"
     ]
    },
    {
     "name": "stderr",
     "output_type": "stream",
     "text": [
      "\n",
      "100%|██████████| 157/157 [00:00<00:00, 190.84it/s]"
     ]
    },
    {
     "name": "stdout",
     "output_type": "stream",
     "text": [
      "Training loss: 0.009, training acc: 99.734\n",
      "Validation loss: 1.093, validation acc: 82.290\n",
      "--------------------------------------------------\n",
      "[INFO]: Epoch 60 of 100\n",
      "Training\n"
     ]
    },
    {
     "name": "stderr",
     "output_type": "stream",
     "text": [
      "\n",
      "100%|██████████| 782/782 [00:07<00:00, 108.70it/s]"
     ]
    },
    {
     "name": "stdout",
     "output_type": "stream",
     "text": [
      "Validation\n"
     ]
    },
    {
     "name": "stderr",
     "output_type": "stream",
     "text": [
      "\n",
      "100%|██████████| 157/157 [00:00<00:00, 189.66it/s]"
     ]
    },
    {
     "name": "stdout",
     "output_type": "stream",
     "text": [
      "Training loss: 0.007, training acc: 99.798\n",
      "Validation loss: 1.450, validation acc: 77.730\n",
      "--------------------------------------------------\n",
      "[INFO]: Epoch 61 of 100\n",
      "Training\n"
     ]
    },
    {
     "name": "stderr",
     "output_type": "stream",
     "text": [
      "\n",
      "100%|██████████| 782/782 [00:07<00:00, 109.51it/s]"
     ]
    },
    {
     "name": "stdout",
     "output_type": "stream",
     "text": [
      "Validation\n"
     ]
    },
    {
     "name": "stderr",
     "output_type": "stream",
     "text": [
      "\n",
      "100%|██████████| 157/157 [00:00<00:00, 194.61it/s]"
     ]
    },
    {
     "name": "stdout",
     "output_type": "stream",
     "text": [
      "Training loss: 0.008, training acc: 99.766\n",
      "Validation loss: 1.087, validation acc: 82.360\n",
      "--------------------------------------------------\n",
      "[INFO]: Epoch 62 of 100\n",
      "Training\n"
     ]
    },
    {
     "name": "stderr",
     "output_type": "stream",
     "text": [
      "\n",
      "100%|██████████| 782/782 [00:07<00:00, 109.62it/s]"
     ]
    },
    {
     "name": "stdout",
     "output_type": "stream",
     "text": [
      "Validation\n"
     ]
    },
    {
     "name": "stderr",
     "output_type": "stream",
     "text": [
      "\n",
      "100%|██████████| 157/157 [00:00<00:00, 201.32it/s]"
     ]
    },
    {
     "name": "stdout",
     "output_type": "stream",
     "text": [
      "Training loss: 0.007, training acc: 99.788\n",
      "Validation loss: 1.649, validation acc: 75.690\n",
      "--------------------------------------------------\n",
      "[INFO]: Epoch 63 of 100\n",
      "Training\n"
     ]
    },
    {
     "name": "stderr",
     "output_type": "stream",
     "text": [
      "\n",
      "100%|██████████| 782/782 [00:07<00:00, 109.46it/s]"
     ]
    },
    {
     "name": "stdout",
     "output_type": "stream",
     "text": [
      "Validation\n"
     ]
    },
    {
     "name": "stderr",
     "output_type": "stream",
     "text": [
      "\n",
      "100%|██████████| 157/157 [00:00<00:00, 196.04it/s]"
     ]
    },
    {
     "name": "stdout",
     "output_type": "stream",
     "text": [
      "Training loss: 0.010, training acc: 99.674\n",
      "Validation loss: 1.150, validation acc: 81.800\n",
      "--------------------------------------------------\n",
      "[INFO]: Epoch 64 of 100\n",
      "Training\n"
     ]
    },
    {
     "name": "stderr",
     "output_type": "stream",
     "text": [
      "\n",
      "100%|██████████| 782/782 [00:07<00:00, 107.67it/s]"
     ]
    },
    {
     "name": "stdout",
     "output_type": "stream",
     "text": [
      "Validation\n"
     ]
    },
    {
     "name": "stderr",
     "output_type": "stream",
     "text": [
      "\n",
      "100%|██████████| 157/157 [00:00<00:00, 194.29it/s]\n"
     ]
    },
    {
     "name": "stdout",
     "output_type": "stream",
     "text": [
      "Training loss: 0.007, training acc: 99.788\n",
      "Validation loss: 1.130, validation acc: 82.740\n",
      "--------------------------------------------------\n",
      "[INFO]: Epoch 65 of 100\n",
      "Training\n"
     ]
    },
    {
     "name": "stderr",
     "output_type": "stream",
     "text": [
      "100%|██████████| 782/782 [00:07<00:00, 109.47it/s]"
     ]
    },
    {
     "name": "stdout",
     "output_type": "stream",
     "text": [
      "Validation\n"
     ]
    },
    {
     "name": "stderr",
     "output_type": "stream",
     "text": [
      "\n",
      "100%|██████████| 157/157 [00:00<00:00, 197.43it/s]"
     ]
    },
    {
     "name": "stdout",
     "output_type": "stream",
     "text": [
      "Training loss: 0.006, training acc: 99.826\n",
      "Validation loss: 1.069, validation acc: 83.040\n",
      "--------------------------------------------------\n",
      "[INFO]: Epoch 66 of 100\n",
      "Training\n"
     ]
    },
    {
     "name": "stderr",
     "output_type": "stream",
     "text": [
      "\n",
      "100%|██████████| 782/782 [00:07<00:00, 110.02it/s]"
     ]
    },
    {
     "name": "stdout",
     "output_type": "stream",
     "text": [
      "Validation\n"
     ]
    },
    {
     "name": "stderr",
     "output_type": "stream",
     "text": [
      "\n",
      "100%|██████████| 157/157 [00:00<00:00, 196.66it/s]"
     ]
    },
    {
     "name": "stdout",
     "output_type": "stream",
     "text": [
      "Training loss: 0.005, training acc: 99.844\n",
      "Validation loss: 1.245, validation acc: 81.090\n",
      "--------------------------------------------------\n",
      "[INFO]: Epoch 67 of 100\n",
      "Training\n"
     ]
    },
    {
     "name": "stderr",
     "output_type": "stream",
     "text": [
      "\n",
      "100%|██████████| 782/782 [00:07<00:00, 109.26it/s]"
     ]
    },
    {
     "name": "stdout",
     "output_type": "stream",
     "text": [
      "Validation\n"
     ]
    },
    {
     "name": "stderr",
     "output_type": "stream",
     "text": [
      "\n",
      "100%|██████████| 157/157 [00:00<00:00, 191.61it/s]"
     ]
    },
    {
     "name": "stdout",
     "output_type": "stream",
     "text": [
      "Training loss: 0.006, training acc: 99.810\n",
      "Validation loss: 1.500, validation acc: 76.880\n",
      "--------------------------------------------------\n",
      "[INFO]: Epoch 68 of 100\n",
      "Training\n"
     ]
    },
    {
     "name": "stderr",
     "output_type": "stream",
     "text": [
      "\n",
      "100%|██████████| 782/782 [00:07<00:00, 110.79it/s]"
     ]
    },
    {
     "name": "stdout",
     "output_type": "stream",
     "text": [
      "Validation\n"
     ]
    },
    {
     "name": "stderr",
     "output_type": "stream",
     "text": [
      "\n",
      "100%|██████████| 157/157 [00:00<00:00, 194.89it/s]"
     ]
    },
    {
     "name": "stdout",
     "output_type": "stream",
     "text": [
      "Training loss: 0.007, training acc: 99.766\n",
      "Validation loss: 1.070, validation acc: 82.920\n",
      "--------------------------------------------------\n",
      "[INFO]: Epoch 69 of 100\n",
      "Training\n"
     ]
    },
    {
     "name": "stderr",
     "output_type": "stream",
     "text": [
      "\n",
      "100%|██████████| 782/782 [00:07<00:00, 109.52it/s]"
     ]
    },
    {
     "name": "stdout",
     "output_type": "stream",
     "text": [
      "Validation\n"
     ]
    },
    {
     "name": "stderr",
     "output_type": "stream",
     "text": [
      "\n",
      "100%|██████████| 157/157 [00:00<00:00, 188.47it/s]"
     ]
    },
    {
     "name": "stdout",
     "output_type": "stream",
     "text": [
      "Training loss: 0.006, training acc: 99.814\n",
      "Validation loss: 1.101, validation acc: 82.250\n",
      "--------------------------------------------------\n",
      "[INFO]: Epoch 70 of 100\n",
      "Training\n"
     ]
    },
    {
     "name": "stderr",
     "output_type": "stream",
     "text": [
      "\n",
      "100%|██████████| 782/782 [00:07<00:00, 110.95it/s]"
     ]
    },
    {
     "name": "stdout",
     "output_type": "stream",
     "text": [
      "Validation\n"
     ]
    },
    {
     "name": "stderr",
     "output_type": "stream",
     "text": [
      "\n",
      "100%|██████████| 157/157 [00:00<00:00, 197.14it/s]"
     ]
    },
    {
     "name": "stdout",
     "output_type": "stream",
     "text": [
      "Training loss: 0.006, training acc: 99.866\n",
      "Validation loss: 1.445, validation acc: 78.710\n",
      "--------------------------------------------------\n",
      "[INFO]: Epoch 71 of 100\n",
      "Training\n"
     ]
    },
    {
     "name": "stderr",
     "output_type": "stream",
     "text": [
      "\n",
      "100%|██████████| 782/782 [00:07<00:00, 111.07it/s]"
     ]
    },
    {
     "name": "stdout",
     "output_type": "stream",
     "text": [
      "Validation\n"
     ]
    },
    {
     "name": "stderr",
     "output_type": "stream",
     "text": [
      "\n",
      "100%|██████████| 157/157 [00:00<00:00, 198.45it/s]"
     ]
    },
    {
     "name": "stdout",
     "output_type": "stream",
     "text": [
      "Training loss: 0.009, training acc: 99.716\n",
      "Validation loss: 1.324, validation acc: 79.810\n",
      "--------------------------------------------------\n",
      "[INFO]: Epoch 72 of 100\n",
      "Training\n"
     ]
    },
    {
     "name": "stderr",
     "output_type": "stream",
     "text": [
      "\n",
      "100%|██████████| 782/782 [00:07<00:00, 109.86it/s]"
     ]
    },
    {
     "name": "stdout",
     "output_type": "stream",
     "text": [
      "Validation\n"
     ]
    },
    {
     "name": "stderr",
     "output_type": "stream",
     "text": [
      "\n",
      "100%|██████████| 157/157 [00:00<00:00, 195.76it/s]"
     ]
    },
    {
     "name": "stdout",
     "output_type": "stream",
     "text": [
      "Training loss: 0.008, training acc: 99.766\n",
      "Validation loss: 1.114, validation acc: 82.760\n",
      "--------------------------------------------------\n",
      "[INFO]: Epoch 73 of 100\n",
      "Training\n"
     ]
    },
    {
     "name": "stderr",
     "output_type": "stream",
     "text": [
      "\n",
      "100%|██████████| 782/782 [00:07<00:00, 109.33it/s]"
     ]
    },
    {
     "name": "stdout",
     "output_type": "stream",
     "text": [
      "Validation\n"
     ]
    },
    {
     "name": "stderr",
     "output_type": "stream",
     "text": [
      "\n",
      "100%|██████████| 157/157 [00:00<00:00, 199.69it/s]"
     ]
    },
    {
     "name": "stdout",
     "output_type": "stream",
     "text": [
      "Training loss: 0.007, training acc: 99.814\n",
      "Validation loss: 1.218, validation acc: 80.580\n",
      "--------------------------------------------------\n",
      "[INFO]: Epoch 74 of 100\n",
      "Training\n"
     ]
    },
    {
     "name": "stderr",
     "output_type": "stream",
     "text": [
      "\n",
      "100%|██████████| 782/782 [00:07<00:00, 110.09it/s]"
     ]
    },
    {
     "name": "stdout",
     "output_type": "stream",
     "text": [
      "Validation\n"
     ]
    },
    {
     "name": "stderr",
     "output_type": "stream",
     "text": [
      "\n",
      "100%|██████████| 157/157 [00:00<00:00, 193.85it/s]"
     ]
    },
    {
     "name": "stdout",
     "output_type": "stream",
     "text": [
      "Training loss: 0.006, training acc: 99.834\n",
      "Validation loss: 1.600, validation acc: 74.880\n",
      "--------------------------------------------------\n",
      "[INFO]: Epoch 75 of 100\n",
      "Training\n"
     ]
    },
    {
     "name": "stderr",
     "output_type": "stream",
     "text": [
      "\n",
      "100%|██████████| 782/782 [00:07<00:00, 110.04it/s]"
     ]
    },
    {
     "name": "stdout",
     "output_type": "stream",
     "text": [
      "Validation\n"
     ]
    },
    {
     "name": "stderr",
     "output_type": "stream",
     "text": [
      "\n",
      "100%|██████████| 157/157 [00:00<00:00, 194.59it/s]"
     ]
    },
    {
     "name": "stdout",
     "output_type": "stream",
     "text": [
      "Training loss: 0.008, training acc: 99.776\n",
      "Validation loss: 1.197, validation acc: 81.890\n",
      "--------------------------------------------------\n",
      "[INFO]: Epoch 76 of 100\n",
      "Training\n"
     ]
    },
    {
     "name": "stderr",
     "output_type": "stream",
     "text": [
      "\n",
      "100%|██████████| 782/782 [00:07<00:00, 109.01it/s]"
     ]
    },
    {
     "name": "stdout",
     "output_type": "stream",
     "text": [
      "Validation\n"
     ]
    },
    {
     "name": "stderr",
     "output_type": "stream",
     "text": [
      "\n",
      "100%|██████████| 157/157 [00:00<00:00, 192.55it/s]"
     ]
    },
    {
     "name": "stdout",
     "output_type": "stream",
     "text": [
      "Training loss: 0.005, training acc: 99.828\n",
      "Validation loss: 1.134, validation acc: 82.410\n",
      "--------------------------------------------------\n",
      "[INFO]: Epoch 77 of 100\n",
      "Training\n"
     ]
    },
    {
     "name": "stderr",
     "output_type": "stream",
     "text": [
      "\n",
      "100%|██████████| 782/782 [00:07<00:00, 108.20it/s]"
     ]
    },
    {
     "name": "stdout",
     "output_type": "stream",
     "text": [
      "Validation\n"
     ]
    },
    {
     "name": "stderr",
     "output_type": "stream",
     "text": [
      "\n",
      "100%|██████████| 157/157 [00:00<00:00, 194.88it/s]"
     ]
    },
    {
     "name": "stdout",
     "output_type": "stream",
     "text": [
      "Training loss: 0.004, training acc: 99.862\n",
      "Validation loss: 1.100, validation acc: 82.880\n",
      "--------------------------------------------------\n",
      "[INFO]: Epoch 78 of 100\n",
      "Training\n"
     ]
    },
    {
     "name": "stderr",
     "output_type": "stream",
     "text": [
      "\n",
      "100%|██████████| 782/782 [00:07<00:00, 109.17it/s]"
     ]
    },
    {
     "name": "stdout",
     "output_type": "stream",
     "text": [
      "Validation\n"
     ]
    },
    {
     "name": "stderr",
     "output_type": "stream",
     "text": [
      "\n",
      "100%|██████████| 157/157 [00:00<00:00, 191.81it/s]\n"
     ]
    },
    {
     "name": "stdout",
     "output_type": "stream",
     "text": [
      "Training loss: 0.005, training acc: 99.872\n",
      "Validation loss: 1.345, validation acc: 79.890\n",
      "--------------------------------------------------\n",
      "[INFO]: Epoch 79 of 100\n",
      "Training\n"
     ]
    },
    {
     "name": "stderr",
     "output_type": "stream",
     "text": [
      "100%|██████████| 782/782 [00:07<00:00, 107.75it/s]"
     ]
    },
    {
     "name": "stdout",
     "output_type": "stream",
     "text": [
      "Validation\n"
     ]
    },
    {
     "name": "stderr",
     "output_type": "stream",
     "text": [
      "\n",
      "100%|██████████| 157/157 [00:00<00:00, 196.54it/s]"
     ]
    },
    {
     "name": "stdout",
     "output_type": "stream",
     "text": [
      "Training loss: 0.009, training acc: 99.722\n",
      "Validation loss: 1.203, validation acc: 81.400\n",
      "--------------------------------------------------\n",
      "[INFO]: Epoch 80 of 100\n",
      "Training\n"
     ]
    },
    {
     "name": "stderr",
     "output_type": "stream",
     "text": [
      "\n",
      "100%|██████████| 782/782 [00:07<00:00, 109.30it/s]"
     ]
    },
    {
     "name": "stdout",
     "output_type": "stream",
     "text": [
      "Validation\n"
     ]
    },
    {
     "name": "stderr",
     "output_type": "stream",
     "text": [
      "\n",
      "100%|██████████| 157/157 [00:00<00:00, 195.63it/s]"
     ]
    },
    {
     "name": "stdout",
     "output_type": "stream",
     "text": [
      "Training loss: 0.007, training acc: 99.780\n",
      "Validation loss: 1.133, validation acc: 82.900\n",
      "--------------------------------------------------\n",
      "[INFO]: Epoch 81 of 100\n",
      "Training\n"
     ]
    },
    {
     "name": "stderr",
     "output_type": "stream",
     "text": [
      "\n",
      "100%|██████████| 782/782 [00:07<00:00, 108.69it/s]"
     ]
    },
    {
     "name": "stdout",
     "output_type": "stream",
     "text": [
      "Validation\n"
     ]
    },
    {
     "name": "stderr",
     "output_type": "stream",
     "text": [
      "\n",
      "100%|██████████| 157/157 [00:00<00:00, 191.04it/s]"
     ]
    },
    {
     "name": "stdout",
     "output_type": "stream",
     "text": [
      "Training loss: 0.004, training acc: 99.858\n",
      "Validation loss: 1.136, validation acc: 82.640\n",
      "--------------------------------------------------\n",
      "[INFO]: Epoch 82 of 100\n",
      "Training\n"
     ]
    },
    {
     "name": "stderr",
     "output_type": "stream",
     "text": [
      "\n",
      "100%|██████████| 782/782 [00:07<00:00, 109.81it/s]"
     ]
    },
    {
     "name": "stdout",
     "output_type": "stream",
     "text": [
      "Validation\n"
     ]
    },
    {
     "name": "stderr",
     "output_type": "stream",
     "text": [
      "\n",
      "100%|██████████| 157/157 [00:00<00:00, 193.44it/s]\n"
     ]
    },
    {
     "name": "stdout",
     "output_type": "stream",
     "text": [
      "Training loss: 0.004, training acc: 99.886\n",
      "Validation loss: 1.120, validation acc: 82.900\n",
      "--------------------------------------------------\n",
      "[INFO]: Epoch 83 of 100\n",
      "Training\n"
     ]
    },
    {
     "name": "stderr",
     "output_type": "stream",
     "text": [
      "100%|██████████| 782/782 [00:07<00:00, 109.49it/s]"
     ]
    },
    {
     "name": "stdout",
     "output_type": "stream",
     "text": [
      "Validation\n"
     ]
    },
    {
     "name": "stderr",
     "output_type": "stream",
     "text": [
      "\n",
      "100%|██████████| 157/157 [00:00<00:00, 197.57it/s]"
     ]
    },
    {
     "name": "stdout",
     "output_type": "stream",
     "text": [
      "Training loss: 0.005, training acc: 99.860\n",
      "Validation loss: 1.158, validation acc: 82.420\n",
      "--------------------------------------------------\n",
      "[INFO]: Epoch 84 of 100\n",
      "Training\n"
     ]
    },
    {
     "name": "stderr",
     "output_type": "stream",
     "text": [
      "\n",
      "100%|██████████| 782/782 [00:07<00:00, 109.53it/s]"
     ]
    },
    {
     "name": "stdout",
     "output_type": "stream",
     "text": [
      "Validation\n"
     ]
    },
    {
     "name": "stderr",
     "output_type": "stream",
     "text": [
      "\n",
      "100%|██████████| 157/157 [00:00<00:00, 196.75it/s]"
     ]
    },
    {
     "name": "stdout",
     "output_type": "stream",
     "text": [
      "Training loss: 0.006, training acc: 99.836\n",
      "Validation loss: 1.279, validation acc: 80.740\n",
      "--------------------------------------------------\n",
      "[INFO]: Epoch 85 of 100\n",
      "Training\n"
     ]
    },
    {
     "name": "stderr",
     "output_type": "stream",
     "text": [
      "\n",
      "100%|██████████| 782/782 [00:07<00:00, 110.58it/s]"
     ]
    },
    {
     "name": "stdout",
     "output_type": "stream",
     "text": [
      "Validation\n"
     ]
    },
    {
     "name": "stderr",
     "output_type": "stream",
     "text": [
      "\n",
      "100%|██████████| 157/157 [00:00<00:00, 194.69it/s]"
     ]
    },
    {
     "name": "stdout",
     "output_type": "stream",
     "text": [
      "Training loss: 0.006, training acc: 99.820\n",
      "Validation loss: 1.246, validation acc: 80.970\n",
      "--------------------------------------------------\n",
      "[INFO]: Epoch 86 of 100\n",
      "Training\n"
     ]
    },
    {
     "name": "stderr",
     "output_type": "stream",
     "text": [
      "\n",
      "100%|██████████| 782/782 [00:07<00:00, 109.95it/s]"
     ]
    },
    {
     "name": "stdout",
     "output_type": "stream",
     "text": [
      "Validation\n"
     ]
    },
    {
     "name": "stderr",
     "output_type": "stream",
     "text": [
      "\n",
      "100%|██████████| 157/157 [00:00<00:00, 192.85it/s]"
     ]
    },
    {
     "name": "stdout",
     "output_type": "stream",
     "text": [
      "Training loss: 0.005, training acc: 99.838\n",
      "Validation loss: 1.170, validation acc: 82.220\n",
      "--------------------------------------------------\n",
      "[INFO]: Epoch 87 of 100\n",
      "Training\n"
     ]
    },
    {
     "name": "stderr",
     "output_type": "stream",
     "text": [
      "\n",
      "100%|██████████| 782/782 [00:07<00:00, 111.16it/s]"
     ]
    },
    {
     "name": "stdout",
     "output_type": "stream",
     "text": [
      "Validation\n"
     ]
    },
    {
     "name": "stderr",
     "output_type": "stream",
     "text": [
      "\n",
      "100%|██████████| 157/157 [00:00<00:00, 196.73it/s]"
     ]
    },
    {
     "name": "stdout",
     "output_type": "stream",
     "text": [
      "Training loss: 0.004, training acc: 99.846\n",
      "Validation loss: 1.099, validation acc: 83.160\n",
      "--------------------------------------------------\n",
      "[INFO]: Epoch 88 of 100\n",
      "Training\n"
     ]
    },
    {
     "name": "stderr",
     "output_type": "stream",
     "text": [
      "\n",
      "100%|██████████| 782/782 [00:07<00:00, 107.09it/s]"
     ]
    },
    {
     "name": "stdout",
     "output_type": "stream",
     "text": [
      "Validation\n"
     ]
    },
    {
     "name": "stderr",
     "output_type": "stream",
     "text": [
      "\n",
      "100%|██████████| 157/157 [00:00<00:00, 194.47it/s]"
     ]
    },
    {
     "name": "stdout",
     "output_type": "stream",
     "text": [
      "Training loss: 0.003, training acc: 99.918\n",
      "Validation loss: 1.337, validation acc: 80.310\n",
      "--------------------------------------------------\n",
      "[INFO]: Epoch 89 of 100\n",
      "Training\n"
     ]
    },
    {
     "name": "stderr",
     "output_type": "stream",
     "text": [
      "\n",
      "100%|██████████| 782/782 [00:07<00:00, 109.33it/s]"
     ]
    },
    {
     "name": "stdout",
     "output_type": "stream",
     "text": [
      "Validation\n"
     ]
    },
    {
     "name": "stderr",
     "output_type": "stream",
     "text": [
      "\n",
      "100%|██████████| 157/157 [00:00<00:00, 195.12it/s]"
     ]
    },
    {
     "name": "stdout",
     "output_type": "stream",
     "text": [
      "Training loss: 0.006, training acc: 99.818\n",
      "Validation loss: 1.126, validation acc: 82.920\n",
      "--------------------------------------------------\n",
      "[INFO]: Epoch 90 of 100\n",
      "Training\n"
     ]
    },
    {
     "name": "stderr",
     "output_type": "stream",
     "text": [
      "\n",
      "100%|██████████| 782/782 [00:07<00:00, 109.81it/s]"
     ]
    },
    {
     "name": "stdout",
     "output_type": "stream",
     "text": [
      "Validation\n"
     ]
    },
    {
     "name": "stderr",
     "output_type": "stream",
     "text": [
      "\n",
      "100%|██████████| 157/157 [00:00<00:00, 191.31it/s]"
     ]
    },
    {
     "name": "stdout",
     "output_type": "stream",
     "text": [
      "Training loss: 0.003, training acc: 99.898\n",
      "Validation loss: 1.111, validation acc: 83.270\n",
      "--------------------------------------------------\n",
      "[INFO]: Epoch 91 of 100\n",
      "Training\n"
     ]
    },
    {
     "name": "stderr",
     "output_type": "stream",
     "text": [
      "\n",
      "100%|██████████| 782/782 [00:07<00:00, 109.09it/s]"
     ]
    },
    {
     "name": "stdout",
     "output_type": "stream",
     "text": [
      "Validation\n"
     ]
    },
    {
     "name": "stderr",
     "output_type": "stream",
     "text": [
      "\n",
      "100%|██████████| 157/157 [00:00<00:00, 193.21it/s]\n"
     ]
    },
    {
     "name": "stdout",
     "output_type": "stream",
     "text": [
      "Training loss: 0.003, training acc: 99.882\n",
      "Validation loss: 1.113, validation acc: 83.120\n",
      "--------------------------------------------------\n",
      "[INFO]: Epoch 92 of 100\n",
      "Training\n"
     ]
    },
    {
     "name": "stderr",
     "output_type": "stream",
     "text": [
      "100%|██████████| 782/782 [00:07<00:00, 107.30it/s]"
     ]
    },
    {
     "name": "stdout",
     "output_type": "stream",
     "text": [
      "Validation\n"
     ]
    },
    {
     "name": "stderr",
     "output_type": "stream",
     "text": [
      "\n",
      "100%|██████████| 157/157 [00:00<00:00, 194.35it/s]"
     ]
    },
    {
     "name": "stdout",
     "output_type": "stream",
     "text": [
      "Training loss: 0.004, training acc: 99.868\n",
      "Validation loss: 1.334, validation acc: 79.750\n",
      "--------------------------------------------------\n",
      "[INFO]: Epoch 93 of 100\n",
      "Training\n"
     ]
    },
    {
     "name": "stderr",
     "output_type": "stream",
     "text": [
      "\n",
      "100%|██████████| 782/782 [00:07<00:00, 108.96it/s]"
     ]
    },
    {
     "name": "stdout",
     "output_type": "stream",
     "text": [
      "Validation\n"
     ]
    },
    {
     "name": "stderr",
     "output_type": "stream",
     "text": [
      "\n",
      "100%|██████████| 157/157 [00:00<00:00, 194.40it/s]"
     ]
    },
    {
     "name": "stdout",
     "output_type": "stream",
     "text": [
      "Training loss: 0.005, training acc: 99.846\n",
      "Validation loss: 1.126, validation acc: 83.140\n",
      "--------------------------------------------------\n",
      "[INFO]: Epoch 94 of 100\n",
      "Training\n"
     ]
    },
    {
     "name": "stderr",
     "output_type": "stream",
     "text": [
      "\n",
      "100%|██████████| 782/782 [00:07<00:00, 109.04it/s]"
     ]
    },
    {
     "name": "stdout",
     "output_type": "stream",
     "text": [
      "Validation\n"
     ]
    },
    {
     "name": "stderr",
     "output_type": "stream",
     "text": [
      "\n",
      "100%|██████████| 157/157 [00:00<00:00, 191.94it/s]"
     ]
    },
    {
     "name": "stdout",
     "output_type": "stream",
     "text": [
      "Training loss: 0.003, training acc: 99.898\n",
      "Validation loss: 1.118, validation acc: 83.410\n",
      "--------------------------------------------------\n",
      "[INFO]: Epoch 95 of 100\n",
      "Training\n"
     ]
    },
    {
     "name": "stderr",
     "output_type": "stream",
     "text": [
      "\n",
      "100%|██████████| 782/782 [00:07<00:00, 109.15it/s]"
     ]
    },
    {
     "name": "stdout",
     "output_type": "stream",
     "text": [
      "Validation\n"
     ]
    },
    {
     "name": "stderr",
     "output_type": "stream",
     "text": [
      "\n",
      "100%|██████████| 157/157 [00:00<00:00, 196.77it/s]"
     ]
    },
    {
     "name": "stdout",
     "output_type": "stream",
     "text": [
      "Training loss: 0.003, training acc: 99.892\n",
      "Validation loss: 1.143, validation acc: 83.210\n",
      "--------------------------------------------------\n",
      "[INFO]: Epoch 96 of 100\n",
      "Training\n"
     ]
    },
    {
     "name": "stderr",
     "output_type": "stream",
     "text": [
      "\n",
      "100%|██████████| 782/782 [00:07<00:00, 109.14it/s]"
     ]
    },
    {
     "name": "stdout",
     "output_type": "stream",
     "text": [
      "Validation\n"
     ]
    },
    {
     "name": "stderr",
     "output_type": "stream",
     "text": [
      "\n",
      "100%|██████████| 157/157 [00:00<00:00, 195.64it/s]"
     ]
    },
    {
     "name": "stdout",
     "output_type": "stream",
     "text": [
      "Training loss: 0.002, training acc: 99.942\n",
      "Validation loss: 1.152, validation acc: 82.690\n",
      "--------------------------------------------------\n",
      "[INFO]: Epoch 97 of 100\n",
      "Training\n"
     ]
    },
    {
     "name": "stderr",
     "output_type": "stream",
     "text": [
      "\n",
      "100%|██████████| 782/782 [00:07<00:00, 108.55it/s]"
     ]
    },
    {
     "name": "stdout",
     "output_type": "stream",
     "text": [
      "Validation\n"
     ]
    },
    {
     "name": "stderr",
     "output_type": "stream",
     "text": [
      "\n",
      "100%|██████████| 157/157 [00:00<00:00, 195.30it/s]"
     ]
    },
    {
     "name": "stdout",
     "output_type": "stream",
     "text": [
      "Training loss: 0.003, training acc: 99.920\n",
      "Validation loss: 1.147, validation acc: 82.920\n",
      "--------------------------------------------------\n",
      "[INFO]: Epoch 98 of 100\n",
      "Training\n"
     ]
    },
    {
     "name": "stderr",
     "output_type": "stream",
     "text": [
      "\n",
      "100%|██████████| 782/782 [00:07<00:00, 109.04it/s]"
     ]
    },
    {
     "name": "stdout",
     "output_type": "stream",
     "text": [
      "Validation\n"
     ]
    },
    {
     "name": "stderr",
     "output_type": "stream",
     "text": [
      "\n",
      "100%|██████████| 157/157 [00:00<00:00, 200.86it/s]"
     ]
    },
    {
     "name": "stdout",
     "output_type": "stream",
     "text": [
      "Training loss: 0.003, training acc: 99.916\n",
      "Validation loss: 1.304, validation acc: 81.030\n",
      "--------------------------------------------------\n",
      "[INFO]: Epoch 99 of 100\n",
      "Training\n"
     ]
    },
    {
     "name": "stderr",
     "output_type": "stream",
     "text": [
      "\n",
      "100%|██████████| 782/782 [00:07<00:00, 108.67it/s]"
     ]
    },
    {
     "name": "stdout",
     "output_type": "stream",
     "text": [
      "Validation\n"
     ]
    },
    {
     "name": "stderr",
     "output_type": "stream",
     "text": [
      "\n",
      "100%|██████████| 157/157 [00:00<00:00, 189.04it/s]"
     ]
    },
    {
     "name": "stdout",
     "output_type": "stream",
     "text": [
      "Training loss: 0.003, training acc: 99.926\n",
      "Validation loss: 1.265, validation acc: 81.180\n",
      "--------------------------------------------------\n",
      "[INFO]: Epoch 100 of 100\n",
      "Training\n"
     ]
    },
    {
     "name": "stderr",
     "output_type": "stream",
     "text": [
      "\n",
      "100%|██████████| 782/782 [00:07<00:00, 110.04it/s]"
     ]
    },
    {
     "name": "stdout",
     "output_type": "stream",
     "text": [
      "Validation\n"
     ]
    },
    {
     "name": "stderr",
     "output_type": "stream",
     "text": [
      "\n",
      "100%|██████████| 157/157 [00:00<00:00, 197.36it/s]"
     ]
    },
    {
     "name": "stdout",
     "output_type": "stream",
     "text": [
      "Training loss: 0.003, training acc: 99.910\n",
      "Validation loss: 1.186, validation acc: 82.750\n",
      "--------------------------------------------------\n"
     ]
    },
    {
     "name": "stderr",
     "output_type": "stream",
     "text": [
      "\n"
     ]
    }
   ],
   "source": [
    "run_iterations()"
   ]
  },
  {
   "cell_type": "markdown",
   "metadata": {},
   "source": [
    "Сохраняем веса модели"
   ]
  },
  {
   "cell_type": "code",
   "execution_count": 8,
   "metadata": {},
   "outputs": [],
   "source": [
    "path = 'data/weights_1.pt'\n",
    "torch.save(model.state_dict(), path)"
   ]
  },
  {
   "cell_type": "markdown",
   "metadata": {},
   "source": [
    "Если хотим выгрузить модель по заданным весам:"
   ]
  },
  {
   "cell_type": "code",
   "execution_count": 9,
   "metadata": {},
   "outputs": [
    {
     "name": "stderr",
     "output_type": "stream",
     "text": [
      "/tmp/ipykernel_453225/2084042103.py:3: FutureWarning: You are using `torch.load` with `weights_only=False` (the current default value), which uses the default pickle module implicitly. It is possible to construct malicious pickle data which will execute arbitrary code during unpickling (See https://github.com/pytorch/pytorch/blob/main/SECURITY.md#untrusted-models for more details). In a future release, the default value for `weights_only` will be flipped to `True`. This limits the functions that could be executed during unpickling. Arbitrary objects will no longer be allowed to be loaded via this mode unless they are explicitly allowlisted by the user via `torch.serialization.add_safe_globals`. We recommend you start setting `weights_only=True` for any use case where you don't have full control of the loaded file. Please open an issue on GitHub for any issues related to this experimental feature.\n",
      "  loaded_model.load_state_dict(torch.load(path))\n"
     ]
    },
    {
     "data": {
      "text/plain": [
       "ResNet(\n",
       "  (conv1): Conv2d(3, 64, kernel_size=(7, 7), stride=(2, 2), padding=(3, 3), bias=False)\n",
       "  (bn1): BatchNorm2d(64, eps=1e-05, momentum=0.1, affine=True, track_running_stats=True)\n",
       "  (relu): ReLU(inplace=True)\n",
       "  (maxpool): MaxPool2d(kernel_size=3, stride=2, padding=1, dilation=1, ceil_mode=False)\n",
       "  (layer1): Sequential(\n",
       "    (0): BasicBlock(\n",
       "      (conv1): Conv2d(64, 64, kernel_size=(3, 3), stride=(1, 1), padding=(1, 1), bias=False)\n",
       "      (bn1): BatchNorm2d(64, eps=1e-05, momentum=0.1, affine=True, track_running_stats=True)\n",
       "      (relu): ReLU(inplace=True)\n",
       "      (conv2): Conv2d(64, 64, kernel_size=(3, 3), stride=(1, 1), padding=(1, 1), bias=False)\n",
       "      (bn2): BatchNorm2d(64, eps=1e-05, momentum=0.1, affine=True, track_running_stats=True)\n",
       "    )\n",
       "    (1): BasicBlock(\n",
       "      (conv1): Conv2d(64, 64, kernel_size=(3, 3), stride=(1, 1), padding=(1, 1), bias=False)\n",
       "      (bn1): BatchNorm2d(64, eps=1e-05, momentum=0.1, affine=True, track_running_stats=True)\n",
       "      (relu): ReLU(inplace=True)\n",
       "      (conv2): Conv2d(64, 64, kernel_size=(3, 3), stride=(1, 1), padding=(1, 1), bias=False)\n",
       "      (bn2): BatchNorm2d(64, eps=1e-05, momentum=0.1, affine=True, track_running_stats=True)\n",
       "    )\n",
       "  )\n",
       "  (layer2): Sequential(\n",
       "    (0): BasicBlock(\n",
       "      (conv1): Conv2d(64, 128, kernel_size=(3, 3), stride=(2, 2), padding=(1, 1), bias=False)\n",
       "      (bn1): BatchNorm2d(128, eps=1e-05, momentum=0.1, affine=True, track_running_stats=True)\n",
       "      (relu): ReLU(inplace=True)\n",
       "      (conv2): Conv2d(128, 128, kernel_size=(3, 3), stride=(1, 1), padding=(1, 1), bias=False)\n",
       "      (bn2): BatchNorm2d(128, eps=1e-05, momentum=0.1, affine=True, track_running_stats=True)\n",
       "      (downsample): Sequential(\n",
       "        (0): Conv2d(64, 128, kernel_size=(1, 1), stride=(2, 2), bias=False)\n",
       "        (1): BatchNorm2d(128, eps=1e-05, momentum=0.1, affine=True, track_running_stats=True)\n",
       "      )\n",
       "    )\n",
       "    (1): BasicBlock(\n",
       "      (conv1): Conv2d(128, 128, kernel_size=(3, 3), stride=(1, 1), padding=(1, 1), bias=False)\n",
       "      (bn1): BatchNorm2d(128, eps=1e-05, momentum=0.1, affine=True, track_running_stats=True)\n",
       "      (relu): ReLU(inplace=True)\n",
       "      (conv2): Conv2d(128, 128, kernel_size=(3, 3), stride=(1, 1), padding=(1, 1), bias=False)\n",
       "      (bn2): BatchNorm2d(128, eps=1e-05, momentum=0.1, affine=True, track_running_stats=True)\n",
       "    )\n",
       "  )\n",
       "  (layer3): Sequential(\n",
       "    (0): BasicBlock(\n",
       "      (conv1): Conv2d(128, 256, kernel_size=(3, 3), stride=(2, 2), padding=(1, 1), bias=False)\n",
       "      (bn1): BatchNorm2d(256, eps=1e-05, momentum=0.1, affine=True, track_running_stats=True)\n",
       "      (relu): ReLU(inplace=True)\n",
       "      (conv2): Conv2d(256, 256, kernel_size=(3, 3), stride=(1, 1), padding=(1, 1), bias=False)\n",
       "      (bn2): BatchNorm2d(256, eps=1e-05, momentum=0.1, affine=True, track_running_stats=True)\n",
       "      (downsample): Sequential(\n",
       "        (0): Conv2d(128, 256, kernel_size=(1, 1), stride=(2, 2), bias=False)\n",
       "        (1): BatchNorm2d(256, eps=1e-05, momentum=0.1, affine=True, track_running_stats=True)\n",
       "      )\n",
       "    )\n",
       "    (1): BasicBlock(\n",
       "      (conv1): Conv2d(256, 256, kernel_size=(3, 3), stride=(1, 1), padding=(1, 1), bias=False)\n",
       "      (bn1): BatchNorm2d(256, eps=1e-05, momentum=0.1, affine=True, track_running_stats=True)\n",
       "      (relu): ReLU(inplace=True)\n",
       "      (conv2): Conv2d(256, 256, kernel_size=(3, 3), stride=(1, 1), padding=(1, 1), bias=False)\n",
       "      (bn2): BatchNorm2d(256, eps=1e-05, momentum=0.1, affine=True, track_running_stats=True)\n",
       "    )\n",
       "  )\n",
       "  (layer4): Sequential(\n",
       "    (0): BasicBlock(\n",
       "      (conv1): Conv2d(256, 512, kernel_size=(3, 3), stride=(2, 2), padding=(1, 1), bias=False)\n",
       "      (bn1): BatchNorm2d(512, eps=1e-05, momentum=0.1, affine=True, track_running_stats=True)\n",
       "      (relu): ReLU(inplace=True)\n",
       "      (conv2): Conv2d(512, 512, kernel_size=(3, 3), stride=(1, 1), padding=(1, 1), bias=False)\n",
       "      (bn2): BatchNorm2d(512, eps=1e-05, momentum=0.1, affine=True, track_running_stats=True)\n",
       "      (downsample): Sequential(\n",
       "        (0): Conv2d(256, 512, kernel_size=(1, 1), stride=(2, 2), bias=False)\n",
       "        (1): BatchNorm2d(512, eps=1e-05, momentum=0.1, affine=True, track_running_stats=True)\n",
       "      )\n",
       "    )\n",
       "    (1): BasicBlock(\n",
       "      (conv1): Conv2d(512, 512, kernel_size=(3, 3), stride=(1, 1), padding=(1, 1), bias=False)\n",
       "      (bn1): BatchNorm2d(512, eps=1e-05, momentum=0.1, affine=True, track_running_stats=True)\n",
       "      (relu): ReLU(inplace=True)\n",
       "      (conv2): Conv2d(512, 512, kernel_size=(3, 3), stride=(1, 1), padding=(1, 1), bias=False)\n",
       "      (bn2): BatchNorm2d(512, eps=1e-05, momentum=0.1, affine=True, track_running_stats=True)\n",
       "    )\n",
       "  )\n",
       "  (avgpool): AdaptiveAvgPool2d(output_size=(1, 1))\n",
       "  (fc): ClassifierHead(\n",
       "    (classifier): Linear(in_features=512, out_features=10, bias=True)\n",
       "  )\n",
       ")"
      ]
     },
     "execution_count": 9,
     "metadata": {},
     "output_type": "execute_result"
    }
   ],
   "source": [
    "loaded_model = resnet18().to(device)\n",
    "loaded_model.fc = ClassifierHead().to(device)\n",
    "loaded_model.load_state_dict(torch.load(path))\n",
    "loaded_model.eval()"
   ]
  },
  {
   "cell_type": "code",
   "execution_count": 10,
   "metadata": {},
   "outputs": [
    {
     "name": "stdout",
     "output_type": "stream",
     "text": [
      "Validation\n"
     ]
    },
    {
     "name": "stderr",
     "output_type": "stream",
     "text": [
      "100%|██████████| 157/157 [00:00<00:00, 202.24it/s]\n"
     ]
    },
    {
     "data": {
      "text/plain": [
       "(1.1861920764871463, 82.75)"
      ]
     },
     "execution_count": 10,
     "metadata": {},
     "output_type": "execute_result"
    }
   ],
   "source": [
    "validate(loaded_model, test_dataloader, criterion, device)"
   ]
  },
  {
   "cell_type": "markdown",
   "metadata": {},
   "source": [
    "### Тестируем атаку"
   ]
  },
  {
   "cell_type": "markdown",
   "metadata": {},
   "source": [
    "Попробуем провести атаку на нашу исходную модель $f(x) = \\text{model}(x)$, а также на Randomized Smoothing Monte-Carlo Estimation $g(x) = \\frac{1}{N} \\sum \\limits_{i = 1}^N f(x + \\varepsilon_i)$"
   ]
  },
  {
   "cell_type": "code",
   "execution_count": 46,
   "metadata": {},
   "outputs": [],
   "source": [
    "def imshow(img):\n",
    "    img = img / 2 + 0.5\n",
    "    plt.imshow(np.transpose(img, (1,2,0)))\n",
    "\n",
    "classes = [\"airplane\", \"automobile\", \"bird\", \"cat\", \"deer\", \"dog\", \"frog\",\n",
    "          \"horse\", \"ship\", \"truck\"]"
   ]
  },
  {
   "cell_type": "code",
   "execution_count": 98,
   "metadata": {},
   "outputs": [],
   "source": [
    "from torchvision.transforms.v2 import GaussianNoise\n",
    "\n",
    "class GHatDetermined(nn.Module):\n",
    "    def __init__(self, model, sigma=0.1, n_samples=100):\n",
    "        super().__init__()\n",
    "\n",
    "        self.n_samples = n_samples\n",
    "        self.noiser = GaussianNoise(mean=0, sigma=sigma)\n",
    "        self.model = model.to(device)\n",
    "        self.epsilons = [\n",
    "            self.noiser(torch.zeros(3, 32, 32))\n",
    "            for _ in range(self.n_samples)\n",
    "        ]\n",
    "\n",
    "    def forward(self, x):\n",
    "        probs = torch.zeros(1, 10)\n",
    "        for i in range(self.n_samples):\n",
    "            new_x = x + self.epsilons[i]\n",
    "            probs += self.softmax(self.model(x + self.epsilons[i]))\n",
    "        probs /= self.n_samples\n",
    "        return probs\n",
    "\n",
    "\n",
    "class GHat:\n",
    "    def __init__(self, model, sigma=0.1, n_samples=100):\n",
    "        self.noiser = GaussianNoise(mean=0.0, sigma=sigma)\n",
    "        self.n_samples = n_samples\n",
    "        self.model = model.to(device)\n",
    "        self.softmax = nn.Softmax()\n",
    "    \n",
    "    def forward(self, image):\n",
    "        image = image.to(device)\n",
    "        if len(image.shape) == 3:\n",
    "            image = image.unsqueeze(dim=0)\n",
    "        probs = torch.zeros(1, 10)\n",
    "        for iteration in range(self.n_samples):\n",
    "            probs += self.softmax(self.model(self.noiser(image)))\n",
    "        probs /= self.n_samples\n",
    "        return probs"
   ]
  },
  {
   "cell_type": "code",
   "execution_count": 100,
   "metadata": {},
   "outputs": [],
   "source": [
    "ghat = GHat(model, n_samples=100)"
   ]
  },
  {
   "cell_type": "code",
   "execution_count": 101,
   "metadata": {},
   "outputs": [],
   "source": [
    "from torchvision.transforms.v2 import GaussianNoise\n",
    "\n",
    "def random_attack(model, image, true_label, noiser=GaussianNoise(sigma=0.05), n_tries=100):\n",
    "    true_label = model(image.unsqueeze(dim=0).to(device)).argmax().item()\n",
    "    for attempt in range(1, n_tries + 1):\n",
    "        new_image = noiser(image)\n",
    "        new_image = new_image.unsqueeze(dim=0).to(device)\n",
    "        label = model(new_image)\n",
    "        if label != true_label:\n",
    "            return label, new_image, attempt"
   ]
  },
  {
   "cell_type": "code",
   "execution_count": 102,
   "metadata": {},
   "outputs": [],
   "source": [
    "def fgsm_attack(model, image, true_label, epsilon=0.01):\n",
    "    if len(image.shape) == 3:\n",
    "        image = image.unsqueeze(dim=0)\n",
    "    image.requires_grad = True\n",
    "    image = image.to(device)\n",
    "    \n",
    "    output = model(image)\n",
    "    loss = criterion(model(image), torch.tensor([true_label]).to(device))\n",
    "    model.zero_grad()\n",
    "    loss.backward()\n",
    "    \n",
    "    image_grad = image.grad\n",
    "    \n",
    "    bad_image = image + epsilon * image_grad.sign()\n",
    "    bad_image = torch.clamp(bad_image, 0, 1)\n",
    "\n",
    "    label = model(bad_image).argmax().item()\n",
    "    has_attack_worked = (label != true_label)\n",
    "    return has_attack_worked, bad_image, label"
   ]
  },
  {
   "cell_type": "code",
   "execution_count": 103,
   "metadata": {},
   "outputs": [],
   "source": [
    "def gradient_estimation_attack(model, image, true_label, epsilon=0.01):\n",
    "    if len(image.shape) == 3:\n",
    "        image = image.unsqueeze(dim=0)\n",
    "    image.requires_grad = True\n",
    "    image = image.to(device)\n",
    "\n",
    "    gdet = GHatDetermined(model)"
   ]
  },
  {
   "cell_type": "code",
   "execution_count": 104,
   "metadata": {},
   "outputs": [
    {
     "name": "stdout",
     "output_type": "stream",
     "text": [
      "Worked! Changed class from ship to automobile\n",
      "Worked! Changed class from ship to automobile\n",
      "Worked! Changed class from airplane to ship\n",
      "Worked! Changed class from frog to deer\n",
      "Worked! Changed class from frog to cat\n",
      "Worked! Changed class from automobile to cat\n",
      "Worked! Changed class from frog to bird\n",
      "Worked! Changed class from cat to dog\n",
      "Worked! Changed class from automobile to truck\n",
      "Worked! Changed class from truck to automobile\n",
      "Worked! Changed class from dog to cat\n",
      "Worked! Changed class from ship to frog\n",
      "Worked! Changed class from dog to cat\n",
      "Worked! Changed class from frog to deer\n",
      "Worked! Changed class from horse to automobile\n",
      "Worked! Changed class from airplane to bird\n",
      "Worked! Changed class from deer to bird\n",
      "Worked! Changed class from dog to deer\n",
      "Worked! Changed class from bird to horse\n",
      "Worked! Changed class from deer to horse\n",
      "Worked! Changed class from airplane to bird\n",
      "Worked! Changed class from truck to automobile\n",
      "Worked! Changed class from frog to bird\n",
      "Worked! Changed class from dog to bird\n",
      "Worked! Changed class from deer to ship\n",
      "Worked! Changed class from dog to cat\n",
      "Worked! Changed class from deer to horse\n",
      "Worked! Changed class from automobile to truck\n",
      "Worked! Changed class from dog to deer\n",
      "Worked! Changed class from deer to airplane\n",
      "Worked! Changed class from horse to deer\n",
      "Worked! Changed class from frog to bird\n",
      "Worked! Changed class from ship to truck\n",
      "Worked! Changed class from airplane to truck\n",
      "Worked! Changed class from ship to airplane\n",
      "Worked! Changed class from horse to truck\n",
      "Worked! Changed class from frog to cat\n",
      "Worked! Changed class from cat to dog\n",
      "Worked! Changed class from frog to cat\n"
     ]
    },
    {
     "data": {
      "image/png": "[encoded data removed]",
      "text/plain": [
       "<Figure size 432x288 with 1 Axes>"
      ]
     },
     "metadata": {
      "needs_background": "light"
     },
     "output_type": "display_data"
    }
   ],
   "source": [
    "worked_attack_ratio = 0.0\n",
    "n_images = 0\n",
    "done=False\n",
    "for image_batch, label_batch in test_dataloader:\n",
    "    image_batch = image_batch.to(device)\n",
    "    label_batch = label_batch.to(device)\n",
    "\n",
    "    for image, label in zip(image_batch, label_batch):\n",
    "        n_images += 1\n",
    "        has_attack_worked, bad_image, new_label = fgsm_attack(model, image, label)\n",
    "        worked_attack_ratio += has_attack_worked\n",
    "\n",
    "        if has_attack_worked and model(image.unsqueeze(dim=0)).argmax() == label:\n",
    "            done=True\n",
    "            print(f'Worked! Changed class from {classes[label.item()]} to {classes[new_label]}')\n",
    "            imshow(image.cpu())\n",
    "    if done:\n",
    "        break\n",
    "worked_attack_ratio /= n_images"
   ]
  },
  {
   "cell_type": "code",
   "execution_count": 2,
   "metadata": {},
   "outputs": [
    {
     "ename": "TypeError",
     "evalue": "scatter() missing 1 required positional argument: 'y'",
     "output_type": "error",
     "traceback": [
      "\u001b[0;31m---------------------------------------------------------------------------\u001b[0m",
      "\u001b[0;31mTypeError\u001b[0m                                 Traceback (most recent call last)",
      "\u001b[0;32m/tmp/ipykernel_424453/299910968.py\u001b[0m in \u001b[0;36m<module>\u001b[0;34m\u001b[0m\n\u001b[1;32m      1\u001b[0m \u001b[0;32mimport\u001b[0m \u001b[0mmatplotlib\u001b[0m\u001b[0;34m.\u001b[0m\u001b[0mpyplot\u001b[0m \u001b[0;32mas\u001b[0m \u001b[0mplt\u001b[0m\u001b[0;34m\u001b[0m\u001b[0;34m\u001b[0m\u001b[0m\n\u001b[1;32m      2\u001b[0m \u001b[0;34m\u001b[0m\u001b[0m\n\u001b[0;32m----> 3\u001b[0;31m \u001b[0mplt\u001b[0m\u001b[0;34m.\u001b[0m\u001b[0mscatter\u001b[0m\u001b[0;34m(\u001b[0m\u001b[0;34m[\u001b[0m\u001b[0;34m(\u001b[0m\u001b[0;36m1\u001b[0m\u001b[0;34m,\u001b[0m\u001b[0;36m1\u001b[0m\u001b[0;34m)\u001b[0m\u001b[0;34m,\u001b[0m \u001b[0;34m(\u001b[0m\u001b[0;36m2\u001b[0m\u001b[0;34m,\u001b[0m\u001b[0;36m2\u001b[0m\u001b[0;34m)\u001b[0m\u001b[0;34m,\u001b[0m \u001b[0;34m(\u001b[0m\u001b[0;36m3\u001b[0m\u001b[0;34m,\u001b[0m\u001b[0;36m3\u001b[0m\u001b[0;34m)\u001b[0m\u001b[0;34m]\u001b[0m\u001b[0;34m)\u001b[0m\u001b[0;34m\u001b[0m\u001b[0;34m\u001b[0m\u001b[0m\n\u001b[0m",
      "\u001b[0;31mTypeError\u001b[0m: scatter() missing 1 required positional argument: 'y'"
     ]
    }
   ],
   "source": [
    "import matplotlib.pyplot as plt\n",
    "\n",
    "plt.scatter([(1,1), (2,2), (3,3)])"
   ]
  },
  {
   "cell_type": "code",
   "execution_count": null,
   "metadata": {},
   "outputs": [],
   "source": []
  }
 ],
 "metadata": {
  "kernelspec": {
   "display_name": "Python 3 (ipykernel)",
   "language": "python",
   "name": "python3"
  },
  "language_info": {
   "codemirror_mode": {
    "name": "ipython",
    "version": 3
   },
   "file_extension": ".py",
   "mimetype": "text/x-python",
   "name": "python",
   "nbconvert_exporter": "python",
   "pygments_lexer": "ipython3",
   "version": "3.10.12"
  }
 },
 "nbformat": 4,
 "nbformat_minor": 2
}
