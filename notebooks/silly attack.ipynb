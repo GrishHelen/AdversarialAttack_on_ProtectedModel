{
 "cells": [
  {
   "cell_type": "code",
   "execution_count": 1,
   "metadata": {},
   "outputs": [
    {
     "data": {
      "text/plain": [
       "<torch._C.Generator at 0x7f49a4577c30>"
      ]
     },
     "execution_count": 1,
     "metadata": {},
     "output_type": "execute_result"
    }
   ],
   "source": [
    "import torch\n",
    "from torch import nn\n",
    "from torchvision.datasets import CIFAR10\n",
    "from torchvision.transforms import ToTensor\n",
    "from torch.utils.data import DataLoader\n",
    "from torchvision.models import resnet18\n",
    "import matplotlib.pyplot as plt\n",
    "import numpy as np\n",
    "from torch import optim\n",
    "from tqdm import tqdm\n",
    "import math\n",
    "\n",
    "torch.manual_seed(0)"
   ]
  },
  {
   "cell_type": "markdown",
   "metadata": {},
   "source": [
    "## download CIFAR-10"
   ]
  },
  {
   "cell_type": "code",
   "execution_count": 2,
   "metadata": {},
   "outputs": [
    {
     "name": "stdout",
     "output_type": "stream",
     "text": [
      "Files already downloaded and verified\n",
      "Files already downloaded and verified\n"
     ]
    }
   ],
   "source": [
    "batch_size = 64\n",
    "train_data = CIFAR10(\n",
    "        root=\"data\",\n",
    "        train=True,\n",
    "        download=True,\n",
    "        transform=ToTensor(),\n",
    "    )\n",
    "test_data = CIFAR10(\n",
    "    root=\"data\",\n",
    "    train=False,\n",
    "    download=True,\n",
    "    transform=ToTensor(),\n",
    ")\n",
    "\n",
    "train_dataloader = DataLoader(train_data, batch_size=batch_size, shuffle=True, num_workers=2)\n",
    "test_dataloader = DataLoader(test_data, batch_size=batch_size, shuffle=False, num_workers=2)"
   ]
  },
  {
   "cell_type": "code",
   "execution_count": 3,
   "metadata": {},
   "outputs": [],
   "source": [
    "def validate(model, testloader, criterion, device):\n",
    "    model.eval()\n",
    "    print(\"Validation\")\n",
    "    valid_running_loss = 0.0\n",
    "    valid_running_correct = 0\n",
    "    counter = 0\n",
    "\n",
    "    with torch.no_grad():\n",
    "        for i, data in tqdm(enumerate(testloader), total=len(testloader)):\n",
    "            counter += 1\n",
    "\n",
    "            image, labels = data\n",
    "            image = image.to(device)\n",
    "            labels = labels.to(device)\n",
    "            # Forward pass.\n",
    "            outputs = model(image)\n",
    "            # Calculate the loss.\n",
    "            loss = criterion(outputs, labels)\n",
    "            valid_running_loss += loss.item()\n",
    "            # Calculate the accuracy.\n",
    "            _, preds = torch.max(outputs.data, 1)\n",
    "            valid_running_correct += (preds == labels).sum().item()\n",
    "\n",
    "    # Loss and accuracy for the complete epoch.\n",
    "    epoch_loss = valid_running_loss / counter\n",
    "    epoch_acc = 100.0 * (valid_running_correct / len(testloader.dataset))\n",
    "    return epoch_loss, epoch_acc"
   ]
  },
  {
   "cell_type": "code",
   "execution_count": 4,
   "metadata": {},
   "outputs": [],
   "source": [
    "from torchvision.models import ResNet18_Weights\n",
    "\n",
    "class ClassifierHead(nn.Module):\n",
    "    def __init__(self):\n",
    "        super().__init__()\n",
    "        self.classifier = nn.Linear(in_features=512, out_features=10, bias=True)\n",
    "    \n",
    "    def forward(self, x):\n",
    "        return self.classifier(x)\n",
    "\n",
    "\n",
    "device = torch.device('cuda:0' if torch.cuda.is_available() else 'cpu')\n",
    "criterion = nn.CrossEntropyLoss()"
   ]
  },
  {
   "cell_type": "code",
   "execution_count": 5,
   "metadata": {},
   "outputs": [
    {
     "name": "stderr",
     "output_type": "stream",
     "text": [
      "/tmp/ipykernel_445928/2698396606.py:5: FutureWarning: You are using `torch.load` with `weights_only=False` (the current default value), which uses the default pickle module implicitly. It is possible to construct malicious pickle data which will execute arbitrary code during unpickling (See https://github.com/pytorch/pytorch/blob/main/SECURITY.md#untrusted-models for more details). In a future release, the default value for `weights_only` will be flipped to `True`. This limits the functions that could be executed during unpickling. Arbitrary objects will no longer be allowed to be loaded via this mode unless they are explicitly allowlisted by the user via `torch.serialization.add_safe_globals`. We recommend you start setting `weights_only=True` for any use case where you don't have full control of the loaded file. Please open an issue on GitHub for any issues related to this experimental feature.\n",
      "  model.load_state_dict(torch.load(path))\n"
     ]
    }
   ],
   "source": [
    "path = 'data/weights_1.pt'\n",
    "\n",
    "model = resnet18().to(device)\n",
    "model.fc = ClassifierHead().to(device)\n",
    "model.load_state_dict(torch.load(path))\n",
    "model.eval();"
   ]
  },
  {
   "cell_type": "code",
   "execution_count": 6,
   "metadata": {},
   "outputs": [
    {
     "name": "stdout",
     "output_type": "stream",
     "text": [
      "Validation\n"
     ]
    },
    {
     "name": "stderr",
     "output_type": "stream",
     "text": [
      "100%|██████████| 157/157 [00:01<00:00, 127.33it/s]\n"
     ]
    },
    {
     "data": {
      "text/plain": [
       "(1.1781141660205878, 82.37)"
      ]
     },
     "execution_count": 6,
     "metadata": {},
     "output_type": "execute_result"
    }
   ],
   "source": [
    "validate(model, test_dataloader, criterion, device)"
   ]
  },
  {
   "cell_type": "markdown",
   "metadata": {},
   "source": [
    "### Тестируем атаку"
   ]
  },
  {
   "cell_type": "markdown",
   "metadata": {},
   "source": [
    "Попробуем провести атаку на нашу исходную модель $f(x) = \\text{model}(x)$, а также на Randomized Smoothing Monte-Carlo Estimation $g(x) = \\frac{1}{N} \\sum \\limits_{i = 1}^N f(x + \\varepsilon_i)$"
   ]
  },
  {
   "cell_type": "code",
   "execution_count": 7,
   "metadata": {},
   "outputs": [],
   "source": [
    "def imshow(img):\n",
    "    img = img / 2 + 0.5\n",
    "    plt.imshow(np.transpose(img, (1,2,0)))\n",
    "\n",
    "classes = [\"airplane\", \"automobile\", \"bird\", \"cat\", \"deer\", \"dog\", \"frog\",\n",
    "          \"horse\", \"ship\", \"truck\"]"
   ]
  },
  {
   "cell_type": "code",
   "execution_count": 8,
   "metadata": {},
   "outputs": [],
   "source": [
    "from torchvision.transforms.v2 import GaussianNoise\n",
    "\n",
    "class GHatDetermined(nn.Module):\n",
    "    '''\n",
    "    GHat model with fixed values epsilon[i], i = 1...N\n",
    "    '''\n",
    "    def __init__(self, model, sigma=0.1, n_samples=100):\n",
    "        super().__init__()\n",
    "\n",
    "        self.n_samples = n_samples\n",
    "        self.noiser = GaussianNoise(mean=0, sigma=sigma)\n",
    "        self.model = model.to(device)\n",
    "        self.epsilons = [\n",
    "            self.noiser(torch.zeros(3, 32, 32)).to(device)\n",
    "            for _ in range(self.n_samples)\n",
    "        ]\n",
    "        self.softmax = nn.Softmax()\n",
    "\n",
    "    def forward(self, x):\n",
    "        probs = torch.zeros(1, 10).to(device)\n",
    "        probs.requires_grad = True\n",
    "        for i in range(self.n_samples):\n",
    "            new_x = x + self.epsilons[i]\n",
    "            probs = probs + self.softmax(self.model(new_x))\n",
    "        probs /= self.n_samples\n",
    "        return probs\n",
    "\n",
    "class GHat:\n",
    "    def __init__(self, model, sigma=0.1, n_samples=100):\n",
    "        self.noiser = GaussianNoise(mean=0.0, sigma=sigma)\n",
    "        self.n_samples = n_samples\n",
    "        self.model = model.to(device)\n",
    "        self.softmax = nn.Softmax()\n",
    "    \n",
    "    def forward(self, image):\n",
    "        image = image.to(device)\n",
    "        if len(image.shape) == 3:\n",
    "            image = image.unsqueeze(dim=0)\n",
    "        probs = torch.zeros(1, 10).to(device)\n",
    "        for iteration in range(self.n_samples):\n",
    "            probs += self.softmax(self.model(self.noiser(image)))\n",
    "        probs /= self.n_samples\n",
    "        return probs\n",
    "    \n",
    "    def __call__(self, image):\n",
    "        return self.forward(image)"
   ]
  },
  {
   "cell_type": "code",
   "execution_count": 9,
   "metadata": {},
   "outputs": [],
   "source": [
    "ghat = GHat(model, n_samples=100)"
   ]
  },
  {
   "cell_type": "code",
   "execution_count": 10,
   "metadata": {},
   "outputs": [],
   "source": [
    "def random_attack(model, image, true_label, noiser=GaussianNoise(mean=0, sigma=0.05), n_tries=100):\n",
    "    true_label = model(image.unsqueeze(dim=0).to(device)).argmax().item()\n",
    "    for attempt in range(1, n_tries + 1):\n",
    "        new_image = noiser(image)\n",
    "        new_image = new_image.unsqueeze(dim=0).to(device)\n",
    "        label = model(new_image).argmax().item()\n",
    "        if label != true_label:\n",
    "            new_image = new_image.squeeze(0).detach()\n",
    "            return label, new_image, attempt"
   ]
  },
  {
   "cell_type": "code",
   "execution_count": 11,
   "metadata": {},
   "outputs": [],
   "source": [
    "def fgsm_attack(model, image, true_label, epsilon=0.01):\n",
    "    model.eval()\n",
    "    \n",
    "    if len(image.shape) == 3:\n",
    "        image = image.unsqueeze(dim=0)\n",
    "    image = image.to(device)\n",
    "    image.requires_grad = True\n",
    "    \n",
    "    output = model(image)\n",
    "    loss = criterion(model(image), torch.tensor([true_label]).to(device))\n",
    "    model.zero_grad()\n",
    "    loss.backward()\n",
    "    \n",
    "    image_grad = image.grad\n",
    "    \n",
    "    bad_image = image + epsilon * image_grad.sign()\n",
    "    bad_image = torch.clamp(bad_image, 0, 1)\n",
    "\n",
    "    label = model(bad_image).argmax().item()\n",
    "    has_attack_worked = (label != true_label)\n",
    "    \n",
    "    bad_image = bad_image.squeeze(0).detach()\n",
    "    \n",
    "    return has_attack_worked, bad_image, label"
   ]
  },
  {
   "cell_type": "code",
   "execution_count": 12,
   "metadata": {},
   "outputs": [],
   "source": [
    "def get_gradient_estimation(model, image, true_label, n_samples=10):\n",
    "    model.eval()\n",
    "    if len(image.shape) == 3:\n",
    "        image = image.unsqueeze(dim=0)\n",
    "    image = image.to(device)\n",
    "    image.requires_grad = True\n",
    "    loss_fn = nn.NLLLoss()\n",
    "\n",
    "    for _ in range(n_samples):\n",
    "        gdet = GHatDetermined(model)\n",
    "        log_prob = torch.log(gdet(image))\n",
    "        loss = loss_fn(log_prob, torch.tensor([true_label]).to(device))\n",
    "        loss.backward()\n",
    "        model.zero_grad()\n",
    "    grad_estimation = image.grad / n_samples\n",
    "    return grad_estimation"
   ]
  },
  {
   "cell_type": "code",
   "execution_count": 13,
   "metadata": {},
   "outputs": [],
   "source": [
    "def gradient_estimation_attack(model, image, true_label, epsilon=0.04, n_samples=10):\n",
    "    model.eval()\n",
    "\n",
    "    image = image.to(device)\n",
    "    gradient_estimation = get_gradient_estimation(model, image, true_label, n_samples).to(device)\n",
    "    bad_image = image + epsilon * gradient_estimation.sign()\n",
    "    bad_image = torch.clamp(bad_image, 0, 1)\n",
    "\n",
    "    ghat = GHat(model)\n",
    "    new_label = ghat(bad_image).argmax().item()\n",
    "    if new_label != true_label:\n",
    "        bad_image = bad_image.squeeze(0).detach()\n",
    "        return True, bad_image, new_label\n",
    "    return False, False, False"
   ]
  },
  {
   "cell_type": "markdown",
   "metadata": {},
   "source": [
    "### Атакуем с Randomized Smoothing Monte-Carlo Estimation"
   ]
  },
  {
   "cell_type": "code",
   "execution_count": 14,
   "metadata": {},
   "outputs": [
    {
     "data": {
      "image/png": "[encoded data removed]",
      "text/plain": [
       "<Figure size 432x288 with 1 Axes>"
      ]
     },
     "metadata": {
      "needs_background": "light"
     },
     "output_type": "display_data"
    }
   ],
   "source": [
    "images_batch, labels_batch = next(iter(test_dataloader))\n",
    "image = images_batch[5]\n",
    "true_label = labels_batch[5].item()\n",
    "imshow(image)"
   ]
  },
  {
   "cell_type": "markdown",
   "metadata": {},
   "source": [
    "### Атакуем картинку с min $p_a - p_b$"
   ]
  },
  {
   "cell_type": "code",
   "execution_count": 15,
   "metadata": {},
   "outputs": [
    {
     "name": "stderr",
     "output_type": "stream",
     "text": [
      "/home/user17/.local/lib/python3.10/site-packages/torch/nn/modules/module.py:1553: UserWarning: Implicit dimension choice for softmax has been deprecated. Change the call to include dim=X as an argument.\n",
      "  return self._call_impl(*args, **kwargs)\n"
     ]
    },
    {
     "name": "stdout",
     "output_type": "stream",
     "text": [
      "min(p_a-p_b)=0.006442546844482422. p_a=0.50061, p_b=0.49417. class=bird\n"
     ]
    },
    {
     "data": {
      "image/png": "[encoded data removed]",
      "text/plain": [
       "<Figure size 432x288 with 1 Axes>"
      ]
     },
     "metadata": {
      "needs_background": "light"
     },
     "output_type": "display_data"
    }
   ],
   "source": [
    "# ищем картинку с наим p_a-p_b\n",
    "worked_attack_ratio = 0.0\n",
    "done=False\n",
    "min_gap = [100, (0,0), None, '']\n",
    "for image_batch, label_batch in test_dataloader:\n",
    "    image_batch = image_batch.to(device)\n",
    "    label_batch = label_batch.to(device)\n",
    "\n",
    "    for image, label in zip(image_batch, label_batch):\n",
    "        p_sorted = (nn.Softmax()(model(image.unsqueeze(dim=0)))[0]).sort(descending=True)\n",
    "        label_predicted = p_sorted.indices[0].item()\n",
    "        if label_predicted == label:\n",
    "            p_a = p_sorted.values[0].item()  # a_class = p_sorted.indices[0].item()\n",
    "            p_b = p_sorted.values[1].item()\n",
    "            min_gap = min(min_gap, [p_a-p_b, (p_a, p_b), image, label])\n",
    "    \n",
    "print(f'min(p_a-p_b)={min_gap[0]}. p_a={round(min_gap[1][0], 5)}, p_b={round(min_gap[1][1], 5)}. class={classes[min_gap[3].item()]}')\n",
    "imshow(min_gap[2].cpu())\n"
   ]
  },
  {
   "cell_type": "code",
   "execution_count": 16,
   "metadata": {},
   "outputs": [
    {
     "name": "stdout",
     "output_type": "stream",
     "text": [
      "without attack:\n",
      "real class: 'bird', predicted: 'bird', 'airplane'\n"
     ]
    },
    {
     "data": {
      "image/png": "[encoded data removed]",
      "text/plain": [
       "<Figure size 432x288 with 1 Axes>"
      ]
     },
     "metadata": {
      "needs_background": "light"
     },
     "output_type": "display_data"
    }
   ],
   "source": [
    "image = min_gap[2]\n",
    "label = min_gap[3]\n",
    "imshow(image.cpu())\n",
    "print('without attack:')\n",
    "print(f\"real class: '{classes[min_gap[3].item()]}', predicted: '{classes[model(image.unsqueeze(dim=0)).argmax().item()]}', '{classes[(nn.Softmax()(model(image.unsqueeze(dim=0)))[0].sort(descending=True)).indices[1].item()]}'\")"
   ]
  },
  {
   "cell_type": "code",
   "execution_count": null,
   "metadata": {},
   "outputs": [],
   "source": []
  },
  {
   "cell_type": "code",
   "execution_count": 17,
   "metadata": {},
   "outputs": [
    {
     "name": "stdout",
     "output_type": "stream",
     "text": [
      "p_gap=0.9999999418987926, p_gap/eps=2593.946529626848\n"
     ]
    }
   ],
   "source": [
    "# начинаем атаковать\n",
    "has_attack_worked = False\n",
    "eps = 4 * 10**(-6)\n",
    "\n",
    "for _ in range(10):\n",
    "    cnt_success_attacks = 0\n",
    "\n",
    "    \n",
    "    has_attack_worked, bad_image, new_label = fgsm_attack(model, image, label, epsilon=eps)\n",
    "        # if has_attack_worked and model(image.unsqueeze(dim=0)).argmax() == label:\n",
    "        #     done=True\n",
    "        #     print(f'Worked! Changed class from {classes[label.item()]} to {classes[new_label]}')\n",
    "        #     imshow(image.cpu())\n",
    "    eps /= 1.1\n",
    "    if not has_attack_worked:\n",
    "        print(f'p_gap={p_a - p_b}, p_gap/eps={min_gap[0] / eps}')\n",
    "        break"
   ]
  },
  {
   "cell_type": "markdown",
   "metadata": {},
   "source": [
    "### Посмотрим зависимость граничного $\\epsilon$ от $p_a-b_b$ в этой атаке\n"
   ]
  },
  {
   "cell_type": "code",
   "execution_count": 18,
   "metadata": {},
   "outputs": [],
   "source": [
    "eps_dependence = [[], [], [], []]  # [[p_gap, ...], [eps, ...], [certified_radius, ...], [l2_norm, ...]]\n",
    "\n",
    "for image_batch, label_batch in test_dataloader:\n",
    "    image_batch = image_batch.to(device)\n",
    "    label_batch = label_batch.to(device)\n",
    "\n",
    "    for image, label in zip(image_batch, label_batch):\n",
    "        p_sorted = (nn.Softmax()(model(image.unsqueeze(dim=0)))[0]).sort(descending=True)\n",
    "        label_predicted = p_sorted.indices[0].item()\n",
    "        if label_predicted != label:\n",
    "            continue\n",
    "        p_a = p_sorted.values[0].item()  # a_class = p_sorted.indices[0].item()\n",
    "        p_b = p_sorted.values[1].item()\n",
    "        p_gap = p_a-p_b\n",
    "        if p_a > 0.9:\n",
    "            continue\n",
    "\n",
    "        eps = 5\n",
    "        is_success_attack = True\n",
    "        while is_success_attack:         \n",
    "            eps *= 0.9\n",
    "            is_success_attack = False\n",
    "           \n",
    "            is_success_attack, bad_image, new_label = fgsm_attack(model, image, label, epsilon=eps)\n",
    "            cnt_success_attacks += has_attack_worked.item()\n",
    "        \n",
    "        \n",
    "        phi_inv = lambda x: torch.distributions.Normal(0, 1).icdf(torch.tensor(x))\n",
    "        certified_radius = 0.1 / 2 * (phi_inv(p_a) - phi_inv(p_b)).item()\n",
    "\n",
    "        l2_norm = (bad_image - image).norm()\n",
    "        \n",
    "        # print(f'p_a-p_b={round(p_gap, 5)}, p_a={round(p_a, 5)}, p_b={round(p_b, 5)}. eps={eps}. (p_a-p_b)/eps={p_gap / eps}') \n",
    "        eps_dependence[0].append(p_gap)\n",
    "        eps_dependence[1].append(eps)\n",
    "        eps_dependence[2].append(certified_radius)\n",
    "        eps_dependence[3].append(l2_norm)"
   ]
  },
  {
   "cell_type": "code",
   "execution_count": 27,
   "metadata": {},
   "outputs": [
    {
     "data": {
      "image/png": "[encoded data removed]",
      "text/plain": [
       "<Figure size 432x288 with 1 Axes>"
      ]
     },
     "metadata": {
      "needs_background": "light"
     },
     "output_type": "display_data"
    }
   ],
   "source": [
    "plt.scatter(eps_dependence[0], eps_dependence[1], s=5)\n",
    "plt.xlabel('p_gap')\n",
    "plt.ylabel('epsilon')\n",
    "plt.xscale('log')\n",
    "plt.yscale('log')\n",
    "plt.savefig('graphics/epsilon vs p_gap.png', transparent=False, facecolor='white', dpi=1000)"
   ]
  },
  {
   "cell_type": "code",
   "execution_count": 28,
   "metadata": {},
   "outputs": [
    {
     "data": {
      "image/png": "[encoded data removed]",
      "text/plain": [
       "<Figure size 432x288 with 1 Axes>"
      ]
     },
     "metadata": {
      "needs_background": "light"
     },
     "output_type": "display_data"
    }
   ],
   "source": [
    "plt.scatter(eps_dependence[2], eps_dependence[1], s=5)\n",
    "plt.xlabel('certified_radius')\n",
    "plt.ylabel('epsilon')\n",
    "plt.xscale('log')\n",
    "plt.yscale('log')\n",
    "plt.savefig('graphics/epsilon vs certified_radius.png', transparent=False, facecolor='white', dpi=1000)"
   ]
  },
  {
   "cell_type": "code",
   "execution_count": 32,
   "metadata": {},
   "outputs": [
    {
     "data": {
      "image/png": "[encoded data removed]",
      "text/plain": [
       "<Figure size 432x288 with 1 Axes>"
      ]
     },
     "metadata": {
      "needs_background": "light"
     },
     "output_type": "display_data"
    }
   ],
   "source": [
    "plt.scatter(eps_dependence[0], eps_dependence[2], s=2)\n",
    "# plt.plot(np.linspace(0, 0.15, 100),np.linspace(0, 0.15, 100), linewidth=0.5)\n",
    "plt.xlabel('p_gap')\n",
    "plt.ylabel('certified radius')\n",
    "plt.savefig('graphics/p_gap vs certified_radius.png',  transparent=False, facecolor='white', dpi=1000)"
   ]
  },
  {
   "cell_type": "code",
   "execution_count": 30,
   "metadata": {},
   "outputs": [
    {
     "data": {
      "image/png": "[encoded data removed]",
      "text/plain": [
       "<Figure size 432x288 with 1 Axes>"
      ]
     },
     "metadata": {
      "needs_background": "light"
     },
     "output_type": "display_data"
    }
   ],
   "source": [
    "plt.scatter(eps_dependence[2], [el.item() for el in eps_dependence[3]], s=2)\n",
    "# plt.plot(np.linspace(0, 0.15, 100),np.linspace(0, 0.15, 100), linewidth=0.5)\n",
    "plt.xlabel('certified radius')\n",
    "plt.ylabel('epsilon (l2)')\n",
    "plt.yscale('log')\n",
    "plt.savefig('graphics/epsilon(l2) vs certified_radius.png', transparent=False, facecolor='white', dpi=1000)"
   ]
  },
  {
   "cell_type": "code",
   "execution_count": null,
   "metadata": {},
   "outputs": [],
   "source": []
  }
 ],
 "metadata": {
  "kernelspec": {
   "display_name": "Python 3 (ipykernel)",
   "language": "python",
   "name": "python3"
  },
  "language_info": {
   "codemirror_mode": {
    "name": "ipython",
    "version": 3
   },
   "file_extension": ".py",
   "mimetype": "text/x-python",
   "name": "python",
   "nbconvert_exporter": "python",
   "pygments_lexer": "ipython3",
   "version": "3.10.12"
  }
 },
 "nbformat": 4,
 "nbformat_minor": 2
}
